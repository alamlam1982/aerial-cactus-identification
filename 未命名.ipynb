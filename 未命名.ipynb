{
 "cells": [
  {
   "cell_type": "code",
   "execution_count": 1,
   "metadata": {},
   "outputs": [
    {
     "name": "stderr",
     "output_type": "stream",
     "text": [
      "Using TensorFlow backend.\n"
     ]
    }
   ],
   "source": [
    "import cv2\n",
    "import pandas as pd\n",
    "import numpy as np\n",
    "import matplotlib.pyplot as plt\n",
    "import json\n",
    "import os\n",
    "from tqdm import tqdm, tqdm_notebook\n",
    "from keras.models import Sequential\n",
    "from keras.layers import Activation, Dropout, Flatten, Dense\n",
    "from keras.applications import VGG16\n",
    "from keras.optimizers import Adam"
   ]
  },
  {
   "cell_type": "code",
   "execution_count": 2,
   "metadata": {},
   "outputs": [
    {
     "data": {
      "text/html": [
       "<div>\n",
       "<style scoped>\n",
       "    .dataframe tbody tr th:only-of-type {\n",
       "        vertical-align: middle;\n",
       "    }\n",
       "\n",
       "    .dataframe tbody tr th {\n",
       "        vertical-align: top;\n",
       "    }\n",
       "\n",
       "    .dataframe thead th {\n",
       "        text-align: right;\n",
       "    }\n",
       "</style>\n",
       "<table border=\"1\" class=\"dataframe\">\n",
       "  <thead>\n",
       "    <tr style=\"text-align: right;\">\n",
       "      <th></th>\n",
       "      <th>id</th>\n",
       "      <th>has_cactus</th>\n",
       "    </tr>\n",
       "  </thead>\n",
       "  <tbody>\n",
       "    <tr>\n",
       "      <th>0</th>\n",
       "      <td>0004be2cfeaba1c0361d39e2b000257b.jpg</td>\n",
       "      <td>1</td>\n",
       "    </tr>\n",
       "    <tr>\n",
       "      <th>1</th>\n",
       "      <td>000c8a36845c0208e833c79c1bffedd1.jpg</td>\n",
       "      <td>1</td>\n",
       "    </tr>\n",
       "    <tr>\n",
       "      <th>2</th>\n",
       "      <td>000d1e9a533f62e55c289303b072733d.jpg</td>\n",
       "      <td>1</td>\n",
       "    </tr>\n",
       "    <tr>\n",
       "      <th>3</th>\n",
       "      <td>0011485b40695e9138e92d0b3fb55128.jpg</td>\n",
       "      <td>1</td>\n",
       "    </tr>\n",
       "    <tr>\n",
       "      <th>4</th>\n",
       "      <td>0014d7a11e90b62848904c1418fc8cf2.jpg</td>\n",
       "      <td>1</td>\n",
       "    </tr>\n",
       "  </tbody>\n",
       "</table>\n",
       "</div>"
      ],
      "text/plain": [
       "                                     id  has_cactus\n",
       "0  0004be2cfeaba1c0361d39e2b000257b.jpg           1\n",
       "1  000c8a36845c0208e833c79c1bffedd1.jpg           1\n",
       "2  000d1e9a533f62e55c289303b072733d.jpg           1\n",
       "3  0011485b40695e9138e92d0b3fb55128.jpg           1\n",
       "4  0014d7a11e90b62848904c1418fc8cf2.jpg           1"
      ]
     },
     "execution_count": 2,
     "metadata": {},
     "output_type": "execute_result"
    }
   ],
   "source": [
    "train_dir = \"train/\"\n",
    "test_dir = \"test/\"\n",
    "train_df = pd.read_csv('train.csv')\n",
    "train_df.head()"
   ]
  },
  {
   "cell_type": "code",
   "execution_count": 4,
   "metadata": {},
   "outputs": [
    {
     "data": {
      "text/plain": [
       "<matplotlib.image.AxesImage at 0xf4da4e0>"
      ]
     },
     "execution_count": 4,
     "metadata": {},
     "output_type": "execute_result"
    },
    {
     "data": {
      "image/png": "[encoded data removed]",
      "text/plain": [
       "<Figure size 432x288 with 1 Axes>"
      ]
     },
     "metadata": {
      "needs_background": "light"
     },
     "output_type": "display_data"
    }
   ],
   "source": [
    "im = cv2.imread(\"train/01e30c0ba6e91343a12d2126fcafc0dd.jpg\")\n",
    "plt.imshow(im)"
   ]
  },
  {
   "cell_type": "code",
   "execution_count": 5,
   "metadata": {},
   "outputs": [
    {
     "name": "stdout",
     "output_type": "stream",
     "text": [
      "Downloading data from https://github.com/fchollet/deep-learning-models/releases/download/v0.1/vgg16_weights_tf_dim_ordering_tf_kernels_notop.h5\n"
     ]
    },
    {
     "name": "stdout",
     "output_type": "stream",
     "text": [
      "11804672/58889256 [=====>........................] - ETA: 56:5 - ETA: 47:1 - ETA: 45:1 - ETA: 40:2 - ETA: 37:4 - ETA: 35:4 - ETA: 34:5 - ETA: 34:0 - ETA: 33:1 - ETA: 29:5 - ETA: 30:4 - ETA: 31:4 - ETA: 31:2 - ETA: 31:5 - ETA: 30:5 - ETA: 31:3 - ETA: 30:3 - ETA: 30:2 - ETA: 29:3 - ETA: 30:0 - ETA: 31:1 - ETA: 30:3 - ETA: 30:2 - ETA: 30:2 - ETA: 30:1 - ETA: 29:3 - ETA: 29:2 - ETA: 29:2 - ETA: 29:5 - ETA: 32:4 - ETA: 35:0 - ETA: 35:1 - ETA: 35:0 - ETA: 34:2 - ETA: 34:1 - ETA: 34:0 - ETA: 34:1 - ETA: 33:4 - ETA: 33:5 - ETA: 33:4 - ETA: 33:3 - ETA: 33:0 - ETA: 33:0 - ETA: 32:5 - ETA: 32:4 - ETA: 32:3 - ETA: 32:3 - ETA: 32:4 - ETA: 34:2 - ETA: 34:2 - ETA: 35:3 - ETA: 36:3 - ETA: 37:1 - ETA: 37:1 - ETA: 38:5 - ETA: 39:1 - ETA: 39:2 - ETA: 38:5 - ETA: 39:1 - ETA: 40:3 - ETA: 42:4 - ETA: 43:1 - ETA: 43:1 - ETA: 43:0 - ETA: 42:4 - ETA: 42:2 - ETA: 42:1 - ETA: 42:1 - ETA: 42:1 - ETA: 41:4 - ETA: 41:3 - ETA: 41:1 - ETA: 41:0 - ETA: 40:3 - ETA: 40:1 - ETA: 40:1 - ETA: 39:4 - ETA: 39:4 - ETA: 39:3 - ETA: 39:2 - ETA: 39:1 - ETA: 38:5 - ETA: 39:0 - ETA: 38:5 - ETA: 38:4 - ETA: 38:3 - ETA: 38:2 - ETA: 38:2 - ETA: 38:2 - ETA: 38:0 - ETA: 37:4 - ETA: 37:4 - ETA: 37:1 - ETA: 37:2 - ETA: 37:1 - ETA: 37:5 - ETA: 41:1 - ETA: 40:5 - ETA: 40:4 - ETA: 40:2 - ETA: 40:2 - ETA: 40:0 - ETA: 39:5 - ETA: 39:4 - ETA: 39:2 - ETA: 39:0 - ETA: 38:5 - ETA: 38:4 - ETA: 38:3 - ETA: 38:3 - ETA: 38:3 - ETA: 38:2 - ETA: 38:0 - ETA: 37:4 - ETA: 37:3 - ETA: 37:3 - ETA: 37:2 - ETA: 37:0 - ETA: 37:0 - ETA: 36:4 - ETA: 36:2 - ETA: 36:1 - ETA: 36:0 - ETA: 35:5 - ETA: 35:5 - ETA: 35:4 - ETA: 35:5 - ETA: 35:4 - ETA: 35:5 - ETA: 35:5 - ETA: 35:5 - ETA: 35:5 - ETA: 35:5 - ETA: 35:5 - ETA: 35:5 - ETA: 35:5 - ETA: 36:2 - ETA: 36:2 - ETA: 36:2 - ETA: 36:4 - ETA: 36:4 - ETA: 36:5 - ETA: 36:5 - ETA: 36:5 - ETA: 36:4 - ETA: 36:3 - ETA: 36:3 - ETA: 36:4 - ETA: 36:5 - ETA: 36:5 - ETA: 36:5 - ETA: 36:5 - ETA: 36:4 - ETA: 36:5 - ETA: 36:5 - ETA: 37:0 - ETA: 37:2 - ETA: 37:4 - ETA: 37:5 - ETA: 38:0 - ETA: 37:5 - ETA: 37:5 - ETA: 38:0 - ETA: 38:0 - ETA: 38:0 - ETA: 38:0 - ETA: 38:1 - ETA: 38:1 - ETA: 38:1 - ETA: 38:0 - ETA: 38:0 - ETA: 38:2 - ETA: 38:2 - ETA: 38:1 - ETA: 38:0 - ETA: 38:0 - ETA: 38:2 - ETA: 38:2 - ETA: 38:3 - ETA: 38:2 - ETA: 38:3 - ETA: 38:3 - ETA: 38:3 - ETA: 38:3 - ETA: 39:0 - ETA: 39:1 - ETA: 39:2 - ETA: 39:3 - ETA: 39:3 - ETA: 39:3 - ETA: 39:3 - ETA: 39:4 - ETA: 39:3 - ETA: 39:3 - ETA: 39:3 - ETA: 39:3 - ETA: 39:2 - ETA: 39:2 - ETA: 39:1 - ETA: 39:1 - ETA: 39:1 - ETA: 39:1 - ETA: 39:0 - ETA: 39:1 - ETA: 39:1 - ETA: 39:2 - ETA: 39:2 - ETA: 39:2 - ETA: 39:2 - ETA: 39:2 - ETA: 39:1 - ETA: 39:1 - ETA: 39:1 - ETA: 39:1 - ETA: 39:0 - ETA: 39:0 - ETA: 39:0 - ETA: 38:5 - ETA: 38:4 - ETA: 38:4 - ETA: 38:4 - ETA: 38:3 - ETA: 38:3 - ETA: 38:3 - ETA: 38:3 - ETA: 38:2 - ETA: 38:2 - ETA: 38:1 - ETA: 38:2 - ETA: 38:1 - ETA: 38:1 - ETA: 38:1 - ETA: 38:0 - ETA: 37:5 - ETA: 38:0 - ETA: 37:5 - ETA: 37:5 - ETA: 37:5 - ETA: 37:5 - ETA: 37:4 - ETA: 37:4 - ETA: 37:4 - ETA: 37:3 - ETA: 37:3 - ETA: 37:3 - ETA: 37:3 - ETA: 37:4 - ETA: 37:4 - ETA: 37:4 - ETA: 37:4 - ETA: 37:4 - ETA: 37:4 - ETA: 37:4 - ETA: 37:4 - ETA: 37:4 - ETA: 37:5 - ETA: 37:5 - ETA: 37:5 - ETA: 37:4 - ETA: 37:4 - ETA: 37:4 - ETA: 37:4 - ETA: 37:4 - ETA: 37:4 - ETA: 37:4 - ETA: 37:3 - ETA: 37:3 - ETA: 37:2 - ETA: 37:2 - ETA: 37:2 - ETA: 37:2 - ETA: 37:1 - ETA: 37:2 - ETA: 37:2 - ETA: 37:1 - ETA: 37:2 - ETA: 37:2 - ETA: 37:3 - ETA: 37:3 - ETA: 38:1 - ETA: 38:4 - ETA: 38:5 - ETA: 38:5 - ETA: 38:5 - ETA: 38:5 - ETA: 39:0 - ETA: 38:5 - ETA: 38:5 - ETA: 38:5 - ETA: 38:5 - ETA: 38:4 - ETA: 38:4 - ETA: 38:4 - ETA: 38:4 - ETA: 38:4 - ETA: 38:3 - ETA: 38:3 - ETA: 38:3 - ETA: 38:3 - ETA: 38:2 - ETA: 38:2 - ETA: 38:2 - ETA: 38:2 - ETA: 38:1 - ETA: 38:1 - ETA: 38:1 - ETA: 38:0 - ETA: 38:0 - ETA: 38:0 - ETA: 37:5 - ETA: 37:5 - ETA: 37:5 - ETA: 37:4 - ETA: 37:4 - ETA: 37:3 - ETA: 37:3 - ETA: 37:2 - ETA: 37:2 - ETA: 37:2 - ETA: 37:2 - ETA: 37:2 - ETA: 37:2 - ETA: 37:2 - ETA: 37:1 - ETA: 37:1 - ETA: 37:1 - ETA: 37:1 - ETA: 37:1 - ETA: 37:1 - ETA: 37:0 - ETA: 37:0 - ETA: 36:5 - ETA: 36:5 - ETA: 36:5 - ETA: 36:5 - ETA: 36:5 - ETA: 36:5 - ETA: 36:4 - ETA: 36:3 - ETA: 36:3 - ETA: 36:3 - ETA: 36:2 - ETA: 36:2 - ETA: 36:2 - ETA: 36:1 - ETA: 36:1 - ETA: 36:0 - ETA: 36:0 - ETA: 35:5 - ETA: 35:5 - ETA: 35:4 - ETA: 35:4 - ETA: 35:3 - ETA: 35:2 - ETA: 35:2 - ETA: 35:1 - ETA: 35:0 - ETA: 34:5 - ETA: 34:5 - ETA: 34:4 - ETA: 34:2 - ETA: 34:2 - ETA: 34:1 - ETA: 34:1 - ETA: 34:0 - ETA: 34:0 - ETA: 34:0 - ETA: 34:0 - ETA: 34:0 - ETA: 34:0 - ETA: 33:5 - ETA: 33:5 - ETA: 33:5 - ETA: 33:4 - ETA: 33:4 - ETA: 33:4 - ETA: 33:4 - ETA: 33:4 - ETA: 33:4 - ETA: 33:3 - ETA: 33:3 - ETA: 33:2 - ETA: 33:2 - ETA: 33:2 - ETA: 33:2 - ETA: 33:1 - ETA: 33:1 - ETA: 33:1 - ETA: 33:0 - ETA: 33:0 - ETA: 33:0 - ETA: 33:1 - ETA: 33:0 - ETA: 33:1 - ETA: 33:1 - ETA: 33:1 - ETA: 33:1 - ETA: 33:1 - ETA: 33:1 - ETA: 33:1 - ETA: 33:1 - ETA: 33:1 - ETA: 33:1 - ETA: 33:1 - ETA: 33:2 - ETA: 33:1 - ETA: 33:1 - ETA: 33:1 - ETA: 33:1 - ETA: 33:1 - ETA: 33:1 - ETA: 33:1 - ETA: 33:1 - ETA: 33:1 - ETA: 33:1 - ETA: 33:1 - ETA: 33:0 - ETA: 33:0 - ETA: 33:0 - ETA: 33:0 - ETA: 33:0 - ETA: 32:5 - ETA: 33:0 - ETA: 33:0 - ETA: 33:0 - ETA: 33:0 - ETA: 32:5 - ETA: 32:5 - ETA: 33:0 - ETA: 32:5 - ETA: 32:5 - ETA: 32:5 - ETA: 32:5 - ETA: 32:5 - ETA: 32:4 - ETA: 32:4 - ETA: 32:4 - ETA: 32:4 - ETA: 32:4 - ETA: 32:4 - ETA: 32:3 - ETA: 32:4 - ETA: 32:4 - ETA: 32:3 - ETA: 32:3 - ETA: 32:3 - ETA: 32:3 - ETA: 32:3 - ETA: 32:4 - ETA: 32:4 - ETA: 32:3 - ETA: 32:3 - ETA: 32:3 - ETA: 32:3 - ETA: 32:3 - ETA: 32:3 - ETA: 32:3 - ETA: 32:3 - ETA: 32:3 - ETA: 32:3 - ETA: 32:4 - ETA: 32:4 - ETA: 32:4 - ETA: 32:4 - ETA: 32:4 - ETA: 32:4 - ETA: 32:4 - ETA: 32:4 - ETA: 32:4 - ETA: 32:4 - ETA: 32:4 - ETA: 32:4 - ETA: 32:5 - ETA: 32:5 - ETA: 32:5 - ETA: 32:5 - ETA: 32:5 - ETA: 33:0 - ETA: 33:0 - ETA: 33:0 - ETA: 33:1 - ETA: 33:1 - ETA: 33:1 - ETA: 33:1 - ETA: 33:0 - ETA: 33:0 - ETA: 33:0 - ETA: 33:0 - ETA: 33:0 - ETA: 33:0 - ETA: 33:0 - ETA: 33:0 - ETA: 32:5 - ETA: 32:5 - ETA: 32:5 - ETA: 32:5 - ETA: 32:5 - ETA: 32:5 - ETA: 32:4 - ETA: 32:5 - ETA: 32:4 - ETA: 32:5 - ETA: 32:5 - ETA: 32:5 - ETA: 32:5 - ETA: 33:0 - ETA: 33:0 - ETA: 33:0 - ETA: 33:0 - ETA: 33:0 - ETA: 33:0 - ETA: 33:0 - ETA: 33:0 - ETA: 33:0 - ETA: 33:1 - ETA: 33:1 - ETA: 33:1 - ETA: 33:1 - ETA: 33:1 - ETA: 33:1 - ETA: 33:0 - ETA: 33:0 - ETA: 33:0 - ETA: 33:0 - ETA: 33:0 - ETA: 33:0 - ETA: 33:0 - ETA: 33:0 - ETA: 33:0 - ETA: 33:0 - ETA: 33:0 - ETA: 33:0 - ETA: 32:5 - ETA: 32:5 - ETA: 32:5 - ETA: 32:5 - ETA: 32:5 - ETA: 32:4 - ETA: 32:4 - ETA: 32:4 - ETA: 32:4 - ETA: 32:4 - ETA: 32:3 - ETA: 32:3 - ETA: 32:3 - ETA: 32:2 - ETA: 32:2 - ETA: 32:2 - ETA: 32:2 - ETA: 32:2 - ETA: 32:2 - ETA: 32:1 - ETA: 32:1 - ETA: 32:1 - ETA: 32:1 - ETA: 32:1 - ETA: 32:1 - ETA: 32:2 - ETA: 32:1 - ETA: 32:2 - ETA: 32:2 - ETA: 32:1 - ETA: 32:1 - ETA: 32:1 - ETA: 32:1 - ETA: 32:1 - ETA: 32:1 - ETA: 32:2 - ETA: 32:2 - ETA: 32:2 - ETA: 32:2 - ETA: 32:1 - ETA: 32:1 - ETA: 32:1 - ETA: 32:1 - ETA: 32:1 - ETA: 32:1 - ETA: 32:1 - ETA: 32:1 - ETA: 32:1 - ETA: 32:1 - ETA: 32:1 - ETA: 32:0 - ETA: 32:0 - ETA: 32:0 - ETA: 32:0 - ETA: 32:0 - ETA: 32:0 - ETA: 32:0 - ETA: 32:0 - ETA: 31:5 - ETA: 31:5 - ETA: 31:5 - ETA: 31:5 - ETA: 32:0 - ETA: 32:0 - ETA: 32:0 - ETA: 32:0 - ETA: 32:0 - ETA: 32:0 - ETA: 32:0 - ETA: 32:0 - ETA: 32:1 - ETA: 32:1 - ETA: 32:1 - ETA: 32:1 - ETA: 32:1 - ETA: 32:1 - ETA: 32:1 - ETA: 32:1 - ETA: 32:1 - ETA: 32:1 - ETA: 32:1 - ETA: 32:1 - ETA: 32:1 - ETA: 32:1 - ETA: 32:1 - ETA: 32:0 - ETA: 32:0 - ETA: 32:0 - ETA: 32:0 - ETA: 32:1 - ETA: 32:0 - ETA: 32:0 - ETA: 32:0 - ETA: 32:0 - ETA: 32:0 - ETA: 32:0 - ETA: 32:0 - ETA: 32:0 - ETA: 31:5 - ETA: 31:5 - ETA: 31:5 - ETA: 31:5 - ETA: 32:0 - ETA: 32:0 - ETA: 32:0 - ETA: 32:0 - ETA: 32:0 - ETA: 32:0 - ETA: 32:0 - ETA: 32:0 - ETA: 32:1 - ETA: 32:1 - ETA: 32:1 - ETA: 32:1 - ETA: 32:1 - ETA: 32:1 - ETA: 32:2 - ETA: 32:2 - ETA: 32:2 - ETA: 32:2 - ETA: 32:2 - ETA: 32:2 - ETA: 32:2 - ETA: 32:2 - ETA: 32:2 - ETA: 32:2 - ETA: 32:2 - ETA: 32:2 - ETA: 32:1 - ETA: 32:1 - ETA: 32:1 - ETA: 32:1 - ETA: 32:1 - ETA: 32:2 - ETA: 32:2 - ETA: 32:2 - ETA: 32:2 - ETA: 32:2 - ETA: 32:2 - ETA: 32:2 - ETA: 32:2 - ETA: 32:2 - ETA: 32:2 - ETA: 32:2 - ETA: 32:2 - ETA: 32:2 - ETA: 32:19"
     ]
    },
    {
     "name": "stdout",
     "output_type": "stream",
     "text": [
      "23764992/58889256 [===========>..................] - ETA: 32:2 - ETA: 32:1 - ETA: 32:1 - ETA: 32:1 - ETA: 32:1 - ETA: 32:1 - ETA: 32:0 - ETA: 32:0 - ETA: 32:0 - ETA: 32:0 - ETA: 32:0 - ETA: 31:5 - ETA: 31:5 - ETA: 31:5 - ETA: 31:5 - ETA: 32:0 - ETA: 32:0 - ETA: 32:0 - ETA: 32:1 - ETA: 32:1 - ETA: 32:1 - ETA: 32:1 - ETA: 32:1 - ETA: 32:1 - ETA: 32:2 - ETA: 32:2 - ETA: 32:2 - ETA: 32:2 - ETA: 32:2 - ETA: 32:2 - ETA: 32:2 - ETA: 32:2 - ETA: 32:1 - ETA: 32:1 - ETA: 32:1 - ETA: 32:1 - ETA: 32:1 - ETA: 32:2 - ETA: 32:1 - ETA: 32:1 - ETA: 32:1 - ETA: 32:1 - ETA: 32:1 - ETA: 32:1 - ETA: 32:1 - ETA: 32:1 - ETA: 32:1 - ETA: 32:1 - ETA: 32:1 - ETA: 32:1 - ETA: 32:1 - ETA: 32:1 - ETA: 32:0 - ETA: 32:0 - ETA: 32:0 - ETA: 32:0 - ETA: 32:0 - ETA: 32:0 - ETA: 32:0 - ETA: 32:0 - ETA: 32:0 - ETA: 31:5 - ETA: 31:5 - ETA: 31:5 - ETA: 31:5 - ETA: 31:5 - ETA: 31:5 - ETA: 31:5 - ETA: 31:5 - ETA: 31:5 - ETA: 31:4 - ETA: 31:4 - ETA: 31:4 - ETA: 31:4 - ETA: 31:4 - ETA: 31:4 - ETA: 31:3 - ETA: 31:3 - ETA: 31:3 - ETA: 31:3 - ETA: 31:3 - ETA: 31:3 - ETA: 31:2 - ETA: 31:2 - ETA: 31:2 - ETA: 31:2 - ETA: 31:2 - ETA: 31:2 - ETA: 31:2 - ETA: 31:2 - ETA: 31:1 - ETA: 31:1 - ETA: 31:1 - ETA: 31:1 - ETA: 31:1 - ETA: 31:1 - ETA: 31:1 - ETA: 31:1 - ETA: 31:1 - ETA: 31:0 - ETA: 31:0 - ETA: 31:0 - ETA: 31:0 - ETA: 31:0 - ETA: 31:0 - ETA: 31:0 - ETA: 30:5 - ETA: 30:5 - ETA: 30:5 - ETA: 30:5 - ETA: 30:5 - ETA: 30:5 - ETA: 30:5 - ETA: 30:5 - ETA: 30:4 - ETA: 30:4 - ETA: 30:4 - ETA: 30:4 - ETA: 30:4 - ETA: 30:4 - ETA: 30:4 - ETA: 30:4 - ETA: 30:4 - ETA: 30:4 - ETA: 30:3 - ETA: 30:3 - ETA: 30:3 - ETA: 30:3 - ETA: 30:3 - ETA: 30:3 - ETA: 30:3 - ETA: 30:3 - ETA: 30:3 - ETA: 30:3 - ETA: 30:3 - ETA: 30:3 - ETA: 30:3 - ETA: 30:2 - ETA: 30:2 - ETA: 30:2 - ETA: 30:2 - ETA: 30:2 - ETA: 30:2 - ETA: 30:2 - ETA: 30:1 - ETA: 30:1 - ETA: 30:1 - ETA: 30:1 - ETA: 30:1 - ETA: 30:1 - ETA: 30:1 - ETA: 30:1 - ETA: 30:1 - ETA: 30:1 - ETA: 30:1 - ETA: 30:1 - ETA: 30:1 - ETA: 30:1 - ETA: 30:1 - ETA: 30:1 - ETA: 30:0 - ETA: 30:0 - ETA: 30:0 - ETA: 30:0 - ETA: 30:0 - ETA: 30:0 - ETA: 30:0 - ETA: 30:0 - ETA: 30:0 - ETA: 30:0 - ETA: 30:0 - ETA: 30:0 - ETA: 30:0 - ETA: 30:0 - ETA: 30:0 - ETA: 29:5 - ETA: 29:5 - ETA: 29:5 - ETA: 29:5 - ETA: 29:5 - ETA: 29:5 - ETA: 29:5 - ETA: 29:5 - ETA: 29:5 - ETA: 29:5 - ETA: 29:5 - ETA: 29:5 - ETA: 29:5 - ETA: 30:0 - ETA: 30:0 - ETA: 30:0 - ETA: 30:0 - ETA: 30:0 - ETA: 30:0 - ETA: 29:5 - ETA: 29:5 - ETA: 29:5 - ETA: 29:5 - ETA: 29:5 - ETA: 29:5 - ETA: 29:5 - ETA: 29:4 - ETA: 29:4 - ETA: 29:4 - ETA: 29:4 - ETA: 29:4 - ETA: 29:4 - ETA: 29:3 - ETA: 29:3 - ETA: 29:3 - ETA: 29:3 - ETA: 29:3 - ETA: 29:3 - ETA: 29:3 - ETA: 29:3 - ETA: 29:2 - ETA: 29:2 - ETA: 29:2 - ETA: 29:2 - ETA: 29:2 - ETA: 29:2 - ETA: 29:1 - ETA: 29:1 - ETA: 29:1 - ETA: 29:1 - ETA: 29:0 - ETA: 29:0 - ETA: 29:0 - ETA: 29:0 - ETA: 29:0 - ETA: 29:0 - ETA: 28:5 - ETA: 28:5 - ETA: 28:5 - ETA: 28:5 - ETA: 28:5 - ETA: 28:5 - ETA: 28:5 - ETA: 28:5 - ETA: 28:5 - ETA: 28:4 - ETA: 28:4 - ETA: 28:4 - ETA: 28:4 - ETA: 28:3 - ETA: 28:3 - ETA: 28:3 - ETA: 28:3 - ETA: 28:3 - ETA: 28:2 - ETA: 28:2 - ETA: 28:2 - ETA: 28:2 - ETA: 28:2 - ETA: 28:2 - ETA: 28:2 - ETA: 28:2 - ETA: 28:1 - ETA: 28:1 - ETA: 28:1 - ETA: 28:1 - ETA: 28:1 - ETA: 28:1 - ETA: 28:0 - ETA: 28:0 - ETA: 28:0 - ETA: 28:0 - ETA: 28:0 - ETA: 28:0 - ETA: 28:0 - ETA: 28:0 - ETA: 28:0 - ETA: 28:0 - ETA: 28:0 - ETA: 28:0 - ETA: 28:0 - ETA: 28:0 - ETA: 27:5 - ETA: 27:5 - ETA: 27:5 - ETA: 27:5 - ETA: 27:5 - ETA: 27:5 - ETA: 27:5 - ETA: 27:5 - ETA: 27:5 - ETA: 27:5 - ETA: 27:5 - ETA: 27:5 - ETA: 27:5 - ETA: 27:5 - ETA: 27:5 - ETA: 27:5 - ETA: 27:5 - ETA: 27:5 - ETA: 27:5 - ETA: 27:5 - ETA: 27:4 - ETA: 27:5 - ETA: 27:4 - ETA: 27:4 - ETA: 27:4 - ETA: 27:4 - ETA: 27:4 - ETA: 27:4 - ETA: 27:4 - ETA: 27:4 - ETA: 27:4 - ETA: 27:4 - ETA: 27:4 - ETA: 27:3 - ETA: 27:3 - ETA: 27:3 - ETA: 27:3 - ETA: 27:3 - ETA: 27:3 - ETA: 27:3 - ETA: 27:3 - ETA: 27:3 - ETA: 27:2 - ETA: 27:2 - ETA: 27:2 - ETA: 27:2 - ETA: 27:2 - ETA: 27:2 - ETA: 27:2 - ETA: 27:2 - ETA: 27:2 - ETA: 27:2 - ETA: 27:2 - ETA: 27:2 - ETA: 27:2 - ETA: 27:1 - ETA: 27:1 - ETA: 27:1 - ETA: 27:1 - ETA: 27:1 - ETA: 27:1 - ETA: 27:1 - ETA: 27:0 - ETA: 27:0 - ETA: 27:0 - ETA: 27:0 - ETA: 27:0 - ETA: 27:0 - ETA: 26:5 - ETA: 26:5 - ETA: 26:5 - ETA: 26:5 - ETA: 26:5 - ETA: 26:5 - ETA: 26:5 - ETA: 26:5 - ETA: 26:5 - ETA: 26:5 - ETA: 26:5 - ETA: 26:5 - ETA: 26:5 - ETA: 26:5 - ETA: 26:5 - ETA: 26:5 - ETA: 26:4 - ETA: 26:4 - ETA: 26:4 - ETA: 26:4 - ETA: 26:4 - ETA: 26:4 - ETA: 26:4 - ETA: 26:4 - ETA: 26:4 - ETA: 26:4 - ETA: 26:4 - ETA: 26:4 - ETA: 26:4 - ETA: 26:4 - ETA: 26:4 - ETA: 26:4 - ETA: 26:4 - ETA: 26:3 - ETA: 26:3 - ETA: 26:3 - ETA: 26:3 - ETA: 26:3 - ETA: 26:3 - ETA: 26:3 - ETA: 26:3 - ETA: 26:3 - ETA: 26:3 - ETA: 26:3 - ETA: 26:3 - ETA: 26:3 - ETA: 26:2 - ETA: 26:3 - ETA: 26:3 - ETA: 26:3 - ETA: 26:3 - ETA: 26:3 - ETA: 26:3 - ETA: 26:3 - ETA: 26:3 - ETA: 26:3 - ETA: 26:3 - ETA: 26:2 - ETA: 26:2 - ETA: 26:3 - ETA: 26:3 - ETA: 26:3 - ETA: 26:3 - ETA: 26:3 - ETA: 26:3 - ETA: 26:3 - ETA: 26:3 - ETA: 26:3 - ETA: 26:3 - ETA: 26:3 - ETA: 26:3 - ETA: 26:3 - ETA: 26:2 - ETA: 26:2 - ETA: 26:2 - ETA: 26:2 - ETA: 26:1 - ETA: 26:1 - ETA: 26:1 - ETA: 26:0 - ETA: 26:0 - ETA: 26:0 - ETA: 26:0 - ETA: 26:0 - ETA: 25:5 - ETA: 25:5 - ETA: 25:5 - ETA: 25:5 - ETA: 25:5 - ETA: 25:5 - ETA: 25:5 - ETA: 25:4 - ETA: 25:4 - ETA: 25:4 - ETA: 25:4 - ETA: 25:4 - ETA: 25:4 - ETA: 25:4 - ETA: 25:4 - ETA: 25:4 - ETA: 25:4 - ETA: 25:4 - ETA: 25:3 - ETA: 25:3 - ETA: 25:3 - ETA: 25:3 - ETA: 25:3 - ETA: 25:3 - ETA: 25:3 - ETA: 25:3 - ETA: 25:3 - ETA: 25:3 - ETA: 25:3 - ETA: 25:3 - ETA: 25:3 - ETA: 25:3 - ETA: 25:3 - ETA: 25:3 - ETA: 25:3 - ETA: 25:3 - ETA: 25:3 - ETA: 25:2 - ETA: 25:2 - ETA: 25:2 - ETA: 25:2 - ETA: 25:2 - ETA: 25:2 - ETA: 25:2 - ETA: 25:1 - ETA: 25:1 - ETA: 25:1 - ETA: 25:1 - ETA: 25:1 - ETA: 25:1 - ETA: 25:0 - ETA: 25:0 - ETA: 25:0 - ETA: 25:0 - ETA: 25:0 - ETA: 25:0 - ETA: 25:0 - ETA: 25:0 - ETA: 24:5 - ETA: 24:5 - ETA: 24:5 - ETA: 24:5 - ETA: 24:5 - ETA: 24:5 - ETA: 24:5 - ETA: 24:4 - ETA: 24:4 - ETA: 24:4 - ETA: 24:4 - ETA: 24:4 - ETA: 24:4 - ETA: 24:4 - ETA: 24:3 - ETA: 24:3 - ETA: 24:3 - ETA: 24:3 - ETA: 24:3 - ETA: 24:3 - ETA: 24:3 - ETA: 24:3 - ETA: 24:3 - ETA: 24:2 - ETA: 24:2 - ETA: 24:2 - ETA: 24:2 - ETA: 24:2 - ETA: 24:2 - ETA: 24:2 - ETA: 24:2 - ETA: 24:2 - ETA: 24:1 - ETA: 24:1 - ETA: 24:1 - ETA: 24:1 - ETA: 24:1 - ETA: 24:1 - ETA: 24:1 - ETA: 24:1 - ETA: 24:1 - ETA: 24:1 - ETA: 24:1 - ETA: 24:0 - ETA: 24:0 - ETA: 24:0 - ETA: 24:0 - ETA: 24:0 - ETA: 24:0 - ETA: 24:0 - ETA: 24:0 - ETA: 24:0 - ETA: 24:0 - ETA: 24:0 - ETA: 23:5 - ETA: 23:5 - ETA: 23:5 - ETA: 23:5 - ETA: 23:5 - ETA: 23:5 - ETA: 23:5 - ETA: 23:4 - ETA: 23:4 - ETA: 23:4 - ETA: 23:4 - ETA: 23:4 - ETA: 23:4 - ETA: 23:4 - ETA: 23:3 - ETA: 23:3 - ETA: 23:3 - ETA: 23:3 - ETA: 23:3 - ETA: 23:3 - ETA: 23:3 - ETA: 23:3 - ETA: 23:3 - ETA: 23:2 - ETA: 23:2 - ETA: 23:2 - ETA: 23:2 - ETA: 23:2 - ETA: 23:2 - ETA: 23:2 - ETA: 23:2 - ETA: 23:1 - ETA: 23:1 - ETA: 23:1 - ETA: 23:1 - ETA: 23:1 - ETA: 23:1 - ETA: 23:1 - ETA: 23:0 - ETA: 23:0 - ETA: 23:0 - ETA: 23:0 - ETA: 23:0 - ETA: 23:0 - ETA: 23:0 - ETA: 23:0 - ETA: 22:5 - ETA: 22:5 - ETA: 22:5 - ETA: 22:5 - ETA: 22:5 - ETA: 22:5 - ETA: 22:5 - ETA: 22:5 - ETA: 22:5 - ETA: 22:5 - ETA: 22:5 - ETA: 22:5 - ETA: 22:5 - ETA: 22:4 - ETA: 22:4 - ETA: 22:4 - ETA: 22:4 - ETA: 22:4 - ETA: 22:4 - ETA: 22:4 - ETA: 22:4 - ETA: 22:4 - ETA: 22:4 - ETA: 22:4 - ETA: 22:4 - ETA: 22:3 - ETA: 22:3 - ETA: 22:3 - ETA: 22:3 - ETA: 22:3 - ETA: 22:3 - ETA: 22:2 - ETA: 22:2 - ETA: 22:2 - ETA: 22:2 - ETA: 22:2 - ETA: 22:2 - ETA: 22:2 - ETA: 22:2 - ETA: 22:2 - ETA: 22:2 - ETA: 22:2 - ETA: 22:2 - ETA: 22:1 - ETA: 22:1 - ETA: 22:1 - ETA: 22:1 - ETA: 22:1 - ETA: 22:1 - ETA: 22:1 - ETA: 22:1 - ETA: 22:1 - ETA: 22:1 - ETA: 22:1 - ETA: 22:1 - ETA: 22:1 - ETA: 22:0 - ETA: 22:0 - ETA: 22:0 - ETA: 22:0 - ETA: 22:0 - ETA: 22:0 - ETA: 22:0 - ETA: 22:0 - ETA: 22:0 - ETA: 22:0 - ETA: 22:0 - ETA: 21:5 - ETA: 21:5 - ETA: 21:5 - ETA: 21:5 - ETA: 21:5 - ETA: 21:5 - ETA: 21:5 - ETA: 21:5 - ETA: 21:5 - ETA: 21:5 - ETA: 21:5 - ETA: 21:5 - ETA: 21:5 - ETA: 21:5 - ETA: 21:4 - ETA: 21:4 - ETA: 21:4 - ETA: 21:4 - ETA: 21:4 - ETA: 21:4 - ETA: 21:4 - ETA: 21:4 - ETA: 21:4 - ETA: 21:4 - ETA: 21:44"
     ]
    },
    {
     "name": "stdout",
     "output_type": "stream",
     "text": [
      "36265984/58889256 [=================>............] - ETA: 21:4 - ETA: 21:4 - ETA: 21:4 - ETA: 21:4 - ETA: 21:4 - ETA: 21:4 - ETA: 21:4 - ETA: 21:4 - ETA: 21:4 - ETA: 21:4 - ETA: 21:4 - ETA: 21:4 - ETA: 21:4 - ETA: 21:4 - ETA: 21:3 - ETA: 21:3 - ETA: 21:3 - ETA: 21:3 - ETA: 21:3 - ETA: 21:3 - ETA: 21:3 - ETA: 21:3 - ETA: 21:2 - ETA: 21:2 - ETA: 21:2 - ETA: 21:2 - ETA: 21:2 - ETA: 21:2 - ETA: 21:2 - ETA: 21:2 - ETA: 21:2 - ETA: 21:2 - ETA: 21:2 - ETA: 21:1 - ETA: 21:1 - ETA: 21:1 - ETA: 21:1 - ETA: 21:1 - ETA: 21:1 - ETA: 21:1 - ETA: 21:1 - ETA: 21:1 - ETA: 21:0 - ETA: 21:0 - ETA: 21:0 - ETA: 21:0 - ETA: 21:0 - ETA: 21:0 - ETA: 21:1 - ETA: 21:1 - ETA: 21:1 - ETA: 21:1 - ETA: 21:1 - ETA: 21:1 - ETA: 21:1 - ETA: 21:1 - ETA: 21:1 - ETA: 21:1 - ETA: 21:0 - ETA: 21:0 - ETA: 21:0 - ETA: 21:0 - ETA: 21:0 - ETA: 21:0 - ETA: 21:0 - ETA: 21:0 - ETA: 21:0 - ETA: 20:5 - ETA: 20:5 - ETA: 20:5 - ETA: 20:5 - ETA: 20:5 - ETA: 20:5 - ETA: 20:5 - ETA: 20:5 - ETA: 20:5 - ETA: 20:5 - ETA: 20:5 - ETA: 20:5 - ETA: 20:5 - ETA: 20:5 - ETA: 20:4 - ETA: 20:4 - ETA: 20:4 - ETA: 20:4 - ETA: 20:4 - ETA: 20:4 - ETA: 20:4 - ETA: 20:4 - ETA: 20:4 - ETA: 20:4 - ETA: 20:4 - ETA: 20:4 - ETA: 20:4 - ETA: 20:3 - ETA: 20:3 - ETA: 20:3 - ETA: 20:3 - ETA: 20:3 - ETA: 20:3 - ETA: 20:2 - ETA: 20:2 - ETA: 20:2 - ETA: 20:2 - ETA: 20:2 - ETA: 20:2 - ETA: 20:1 - ETA: 20:1 - ETA: 20:1 - ETA: 20:1 - ETA: 20:1 - ETA: 20:1 - ETA: 20:1 - ETA: 20:1 - ETA: 20:1 - ETA: 20:0 - ETA: 20:0 - ETA: 20:0 - ETA: 20:0 - ETA: 20:0 - ETA: 20:0 - ETA: 20:0 - ETA: 20:0 - ETA: 20:0 - ETA: 20:0 - ETA: 19:5 - ETA: 19:5 - ETA: 19:5 - ETA: 19:5 - ETA: 19:5 - ETA: 19:5 - ETA: 19:5 - ETA: 19:5 - ETA: 19:5 - ETA: 19:5 - ETA: 19:5 - ETA: 19:4 - ETA: 19:4 - ETA: 19:4 - ETA: 19:4 - ETA: 19:4 - ETA: 19:4 - ETA: 19:4 - ETA: 19:4 - ETA: 19:4 - ETA: 19:4 - ETA: 19:4 - ETA: 19:3 - ETA: 19:3 - ETA: 19:3 - ETA: 19:3 - ETA: 19:3 - ETA: 19:3 - ETA: 19:3 - ETA: 19:3 - ETA: 19:2 - ETA: 19:2 - ETA: 19:2 - ETA: 19:2 - ETA: 19:2 - ETA: 19:2 - ETA: 19:2 - ETA: 19:2 - ETA: 19:2 - ETA: 19:2 - ETA: 19:1 - ETA: 19:1 - ETA: 19:1 - ETA: 19:1 - ETA: 19:1 - ETA: 19:1 - ETA: 19:1 - ETA: 19:1 - ETA: 19:1 - ETA: 19:1 - ETA: 19:1 - ETA: 19:0 - ETA: 19:0 - ETA: 19:0 - ETA: 19:0 - ETA: 19:0 - ETA: 19:0 - ETA: 19:0 - ETA: 19:0 - ETA: 19:0 - ETA: 19:0 - ETA: 19:0 - ETA: 18:5 - ETA: 18:5 - ETA: 18:5 - ETA: 18:5 - ETA: 18:5 - ETA: 18:5 - ETA: 18:5 - ETA: 18:5 - ETA: 18:4 - ETA: 18:4 - ETA: 18:4 - ETA: 18:4 - ETA: 18:4 - ETA: 18:4 - ETA: 18:4 - ETA: 18:4 - ETA: 18:4 - ETA: 18:3 - ETA: 18:3 - ETA: 18:3 - ETA: 18:3 - ETA: 18:3 - ETA: 18:3 - ETA: 18:3 - ETA: 18:3 - ETA: 18:3 - ETA: 18:2 - ETA: 18:2 - ETA: 18:2 - ETA: 18:2 - ETA: 18:2 - ETA: 18:2 - ETA: 18:2 - ETA: 18:2 - ETA: 18:2 - ETA: 18:2 - ETA: 18:2 - ETA: 18:1 - ETA: 18:1 - ETA: 18:1 - ETA: 18:1 - ETA: 18:1 - ETA: 18:1 - ETA: 18:1 - ETA: 18:1 - ETA: 18:1 - ETA: 18:1 - ETA: 18:0 - ETA: 18:0 - ETA: 18:0 - ETA: 18:0 - ETA: 18:0 - ETA: 18:0 - ETA: 18:0 - ETA: 18:0 - ETA: 18:0 - ETA: 18:0 - ETA: 18:0 - ETA: 18:0 - ETA: 17:5 - ETA: 17:5 - ETA: 17:5 - ETA: 17:5 - ETA: 17:5 - ETA: 17:5 - ETA: 17:5 - ETA: 17:5 - ETA: 17:5 - ETA: 17:5 - ETA: 17:5 - ETA: 17:5 - ETA: 17:5 - ETA: 17:5 - ETA: 17:5 - ETA: 17:5 - ETA: 17:5 - ETA: 17:5 - ETA: 17:5 - ETA: 17:5 - ETA: 17:5 - ETA: 17:4 - ETA: 17:4 - ETA: 17:4 - ETA: 17:4 - ETA: 17:4 - ETA: 17:4 - ETA: 17:4 - ETA: 17:4 - ETA: 17:4 - ETA: 17:4 - ETA: 17:4 - ETA: 17:4 - ETA: 17:4 - ETA: 17:4 - ETA: 17:4 - ETA: 17:4 - ETA: 17:3 - ETA: 17:4 - ETA: 17:4 - ETA: 17:3 - ETA: 17:3 - ETA: 17:3 - ETA: 17:3 - ETA: 17:3 - ETA: 17:3 - ETA: 17:3 - ETA: 17:3 - ETA: 17:3 - ETA: 17:3 - ETA: 17:3 - ETA: 17:3 - ETA: 17:3 - ETA: 17:3 - ETA: 17:3 - ETA: 17:3 - ETA: 17:2 - ETA: 17:2 - ETA: 17:2 - ETA: 17:2 - ETA: 17:2 - ETA: 17:2 - ETA: 17:2 - ETA: 17:2 - ETA: 17:2 - ETA: 17:2 - ETA: 17:2 - ETA: 17:2 - ETA: 17:2 - ETA: 17:2 - ETA: 17:2 - ETA: 17:2 - ETA: 17:1 - ETA: 17:1 - ETA: 17:1 - ETA: 17:1 - ETA: 17:1 - ETA: 17:1 - ETA: 17:1 - ETA: 17:1 - ETA: 17:1 - ETA: 17:0 - ETA: 17:0 - ETA: 17:0 - ETA: 17:0 - ETA: 16:5 - ETA: 16:5 - ETA: 16:5 - ETA: 16:4 - ETA: 16:4 - ETA: 16:4 - ETA: 16:4 - ETA: 16:3 - ETA: 16:3 - ETA: 16:3 - ETA: 16:3 - ETA: 16:3 - ETA: 16:3 - ETA: 16:2 - ETA: 16:2 - ETA: 16:2 - ETA: 16:2 - ETA: 16:2 - ETA: 16:2 - ETA: 16:1 - ETA: 16:1 - ETA: 16:1 - ETA: 16:1 - ETA: 16:1 - ETA: 16:1 - ETA: 16:1 - ETA: 16:1 - ETA: 16:1 - ETA: 16:1 - ETA: 16:1 - ETA: 16:1 - ETA: 16:0 - ETA: 16:0 - ETA: 16:0 - ETA: 16:0 - ETA: 16:0 - ETA: 16:0 - ETA: 16:0 - ETA: 16:0 - ETA: 16:0 - ETA: 16:0 - ETA: 16:0 - ETA: 16:0 - ETA: 16:0 - ETA: 16:0 - ETA: 16:0 - ETA: 16:0 - ETA: 15:5 - ETA: 15:5 - ETA: 15:5 - ETA: 15:5 - ETA: 15:5 - ETA: 15:5 - ETA: 15:5 - ETA: 15:5 - ETA: 15:5 - ETA: 15:5 - ETA: 15:5 - ETA: 15:5 - ETA: 15:5 - ETA: 15:5 - ETA: 15:5 - ETA: 15:5 - ETA: 15:5 - ETA: 15:5 - ETA: 15:5 - ETA: 15:5 - ETA: 15:4 - ETA: 15:4 - ETA: 15:4 - ETA: 15:4 - ETA: 15:4 - ETA: 15:4 - ETA: 15:4 - ETA: 15:4 - ETA: 15:4 - ETA: 15:4 - ETA: 15:4 - ETA: 15:4 - ETA: 15:4 - ETA: 15:4 - ETA: 15:4 - ETA: 15:4 - ETA: 15:4 - ETA: 15:4 - ETA: 15:4 - ETA: 15:4 - ETA: 15:4 - ETA: 15:4 - ETA: 15:3 - ETA: 15:3 - ETA: 15:3 - ETA: 15:3 - ETA: 15:3 - ETA: 15:3 - ETA: 15:3 - ETA: 15:3 - ETA: 15:3 - ETA: 15:3 - ETA: 15:3 - ETA: 15:3 - ETA: 15:3 - ETA: 15:2 - ETA: 15:2 - ETA: 15:2 - ETA: 15:2 - ETA: 15:2 - ETA: 15:2 - ETA: 15:2 - ETA: 15:2 - ETA: 15:2 - ETA: 15:2 - ETA: 15:2 - ETA: 15:1 - ETA: 15:1 - ETA: 15:1 - ETA: 15:1 - ETA: 15:1 - ETA: 15:1 - ETA: 15:1 - ETA: 15:1 - ETA: 15:1 - ETA: 15:1 - ETA: 15:0 - ETA: 15:0 - ETA: 15:0 - ETA: 15:0 - ETA: 15:0 - ETA: 15:0 - ETA: 15:0 - ETA: 15:0 - ETA: 15:0 - ETA: 15:0 - ETA: 15:0 - ETA: 15:0 - ETA: 15:0 - ETA: 14:5 - ETA: 14:5 - ETA: 14:5 - ETA: 14:5 - ETA: 14:5 - ETA: 14:5 - ETA: 14:5 - ETA: 14:5 - ETA: 14:5 - ETA: 14:5 - ETA: 14:5 - ETA: 14:5 - ETA: 14:5 - ETA: 14:4 - ETA: 14:4 - ETA: 14:4 - ETA: 14:4 - ETA: 14:4 - ETA: 14:4 - ETA: 14:4 - ETA: 14:4 - ETA: 14:4 - ETA: 14:4 - ETA: 14:4 - ETA: 14:4 - ETA: 14:4 - ETA: 14:4 - ETA: 14:4 - ETA: 14:4 - ETA: 14:4 - ETA: 14:4 - ETA: 14:4 - ETA: 14:4 - ETA: 14:4 - ETA: 14:3 - ETA: 14:3 - ETA: 14:3 - ETA: 14:3 - ETA: 14:3 - ETA: 14:3 - ETA: 14:3 - ETA: 14:3 - ETA: 14:3 - ETA: 14:3 - ETA: 14:3 - ETA: 14:3 - ETA: 14:3 - ETA: 14:3 - ETA: 14:3 - ETA: 14:3 - ETA: 14:3 - ETA: 14:3 - ETA: 14:3 - ETA: 14:3 - ETA: 14:3 - ETA: 14:3 - ETA: 14:3 - ETA: 14:3 - ETA: 14:2 - ETA: 14:2 - ETA: 14:2 - ETA: 14:2 - ETA: 14:2 - ETA: 14:2 - ETA: 14:2 - ETA: 14:2 - ETA: 14:2 - ETA: 14:2 - ETA: 14:2 - ETA: 14:1 - ETA: 14:1 - ETA: 14:1 - ETA: 14:1 - ETA: 14:1 - ETA: 14:1 - ETA: 14:1 - ETA: 14:1 - ETA: 14:1 - ETA: 14:1 - ETA: 14:1 - ETA: 14:0 - ETA: 14:0 - ETA: 14:0 - ETA: 14:0 - ETA: 14:0 - ETA: 14:0 - ETA: 14:0 - ETA: 14:0 - ETA: 14:0 - ETA: 14:0 - ETA: 14:0 - ETA: 14:0 - ETA: 14:0 - ETA: 14:0 - ETA: 13:5 - ETA: 13:5 - ETA: 13:5 - ETA: 13:5 - ETA: 13:5 - ETA: 13:5 - ETA: 13:5 - ETA: 13:5 - ETA: 13:5 - ETA: 13:5 - ETA: 13:5 - ETA: 13:5 - ETA: 13:5 - ETA: 13:5 - ETA: 13:5 - ETA: 13:4 - ETA: 13:4 - ETA: 13:4 - ETA: 13:4 - ETA: 13:4 - ETA: 13:4 - ETA: 13:4 - ETA: 13:4 - ETA: 13:4 - ETA: 13:4 - ETA: 13:4 - ETA: 13:4 - ETA: 13:4 - ETA: 13:4 - ETA: 13:4 - ETA: 13:4 - ETA: 13:4 - ETA: 13:4 - ETA: 13:3 - ETA: 13:3 - ETA: 13:3 - ETA: 13:3 - ETA: 13:3 - ETA: 13:3 - ETA: 13:3 - ETA: 13:3 - ETA: 13:3 - ETA: 13:3 - ETA: 13:3 - ETA: 13:3 - ETA: 13:3 - ETA: 13:3 - ETA: 13:2 - ETA: 13:2 - ETA: 13:2 - ETA: 13:2 - ETA: 13:2 - ETA: 13:2 - ETA: 13:2 - ETA: 13:2 - ETA: 13:2 - ETA: 13:2 - ETA: 13:2 - ETA: 13:2 - ETA: 13:1 - ETA: 13:1 - ETA: 13:1 - ETA: 13:1 - ETA: 13:1 - ETA: 13:1 - ETA: 13:1 - ETA: 13:1 - ETA: 13:1 - ETA: 13:1 - ETA: 13:1 - ETA: 13:1 - ETA: 13:1 - ETA: 13:1 - ETA: 13:1 - ETA: 13:1 - ETA: 13:1 - ETA: 13:1 - ETA: 13:1 - ETA: 13:1 - ETA: 13:1 - ETA: 13:1 - ETA: 13:1 - ETA: 13:1 - ETA: 13:0 - ETA: 13:0 - ETA: 13:0 - ETA: 13:0 - ETA: 13:0 - ETA: 13:0 - ETA: 13:0 - ETA: 13:0 - ETA: 13:0 - ETA: 13:0 - ETA: 13:0 - ETA: 13:0 - ETA: 13:0 - ETA: 13:0 - ETA: 13:0 - ETA: 13:0 - ETA: 13:0 - ETA: 13:0 - ETA: 13:0 - ETA: 13:0 - ETA: 13:0 - ETA: 13:0 - ETA: 13:0 - ETA: 13:0 - ETA: 12:5 - ETA: 12:5 - ETA: 12:5 - ETA: 12:5 - ETA: 12:5 - ETA: 12:5 - ETA: 12:5 - ETA: 12:5 - ETA: 12:5 - ETA: 12:5 - ETA: 12:53"
     ]
    },
    {
     "name": "stdout",
     "output_type": "stream",
     "text": [
      "49823744/58889256 [========================>.....] - ETA: 12:5 - ETA: 12:5 - ETA: 12:5 - ETA: 12:5 - ETA: 12:5 - ETA: 12:5 - ETA: 12:4 - ETA: 12:4 - ETA: 12:4 - ETA: 12:4 - ETA: 12:4 - ETA: 12:4 - ETA: 12:4 - ETA: 12:4 - ETA: 12:4 - ETA: 12:4 - ETA: 12:4 - ETA: 12:4 - ETA: 12:4 - ETA: 12:4 - ETA: 12:3 - ETA: 12:3 - ETA: 12:3 - ETA: 12:3 - ETA: 12:3 - ETA: 12:3 - ETA: 12:3 - ETA: 12:3 - ETA: 12:3 - ETA: 12:3 - ETA: 12:3 - ETA: 12:3 - ETA: 12:2 - ETA: 12:2 - ETA: 12:2 - ETA: 12:2 - ETA: 12:2 - ETA: 12:2 - ETA: 12:2 - ETA: 12:2 - ETA: 12:2 - ETA: 12:2 - ETA: 12:2 - ETA: 12:2 - ETA: 12:2 - ETA: 12:1 - ETA: 12:1 - ETA: 12:1 - ETA: 12:1 - ETA: 12:1 - ETA: 12:1 - ETA: 12:1 - ETA: 12:1 - ETA: 12:1 - ETA: 12:1 - ETA: 12:1 - ETA: 12:1 - ETA: 12:1 - ETA: 12:1 - ETA: 12:1 - ETA: 12:1 - ETA: 12:1 - ETA: 12:0 - ETA: 12:0 - ETA: 12:0 - ETA: 12:0 - ETA: 12:0 - ETA: 12:0 - ETA: 12:0 - ETA: 12:0 - ETA: 12:0 - ETA: 12:0 - ETA: 12:0 - ETA: 12:0 - ETA: 12:0 - ETA: 11:5 - ETA: 11:5 - ETA: 11:5 - ETA: 11:5 - ETA: 11:5 - ETA: 11:5 - ETA: 11:5 - ETA: 11:5 - ETA: 11:5 - ETA: 11:5 - ETA: 11:5 - ETA: 11:5 - ETA: 11:5 - ETA: 11:4 - ETA: 11:4 - ETA: 11:4 - ETA: 11:4 - ETA: 11:4 - ETA: 11:4 - ETA: 11:4 - ETA: 11:4 - ETA: 11:4 - ETA: 11:4 - ETA: 11:4 - ETA: 11:3 - ETA: 11:3 - ETA: 11:3 - ETA: 11:3 - ETA: 11:3 - ETA: 11:3 - ETA: 11:3 - ETA: 11:3 - ETA: 11:3 - ETA: 11:3 - ETA: 11:3 - ETA: 11:3 - ETA: 11:3 - ETA: 11:3 - ETA: 11:2 - ETA: 11:2 - ETA: 11:2 - ETA: 11:2 - ETA: 11:2 - ETA: 11:2 - ETA: 11:2 - ETA: 11:2 - ETA: 11:2 - ETA: 11:2 - ETA: 11:2 - ETA: 11:2 - ETA: 11:2 - ETA: 11:2 - ETA: 11:2 - ETA: 11:2 - ETA: 11:2 - ETA: 11:2 - ETA: 11:1 - ETA: 11:1 - ETA: 11:1 - ETA: 11:1 - ETA: 11:1 - ETA: 11:1 - ETA: 11:1 - ETA: 11:1 - ETA: 11:1 - ETA: 11:1 - ETA: 11:1 - ETA: 11:1 - ETA: 11:1 - ETA: 11:1 - ETA: 11:1 - ETA: 11:1 - ETA: 11:1 - ETA: 11:1 - ETA: 11:1 - ETA: 11:1 - ETA: 11:1 - ETA: 11:0 - ETA: 11:0 - ETA: 11:0 - ETA: 11:0 - ETA: 11:0 - ETA: 11:0 - ETA: 11:0 - ETA: 11:0 - ETA: 11:0 - ETA: 11:0 - ETA: 11:0 - ETA: 11:0 - ETA: 11:0 - ETA: 11:0 - ETA: 11:0 - ETA: 11:0 - ETA: 11:0 - ETA: 11:0 - ETA: 11:0 - ETA: 11:0 - ETA: 11:0 - ETA: 10:5 - ETA: 10:5 - ETA: 10:5 - ETA: 10:5 - ETA: 10:5 - ETA: 10:5 - ETA: 10:5 - ETA: 10:5 - ETA: 10:5 - ETA: 10:5 - ETA: 10:5 - ETA: 10:5 - ETA: 10:5 - ETA: 10:5 - ETA: 10:5 - ETA: 10:5 - ETA: 10:5 - ETA: 10:5 - ETA: 10:5 - ETA: 10:5 - ETA: 10:4 - ETA: 10:4 - ETA: 10:4 - ETA: 10:4 - ETA: 10:4 - ETA: 10:4 - ETA: 10:4 - ETA: 10:4 - ETA: 10:4 - ETA: 10:4 - ETA: 10:4 - ETA: 10:4 - ETA: 10:4 - ETA: 10:3 - ETA: 10:3 - ETA: 10:3 - ETA: 10:3 - ETA: 10:3 - ETA: 10:3 - ETA: 10:3 - ETA: 10:3 - ETA: 10:3 - ETA: 10:3 - ETA: 10:3 - ETA: 10:3 - ETA: 10:3 - ETA: 10:2 - ETA: 10:2 - ETA: 10:2 - ETA: 10:2 - ETA: 10:2 - ETA: 10:2 - ETA: 10:2 - ETA: 10:2 - ETA: 10:2 - ETA: 10:2 - ETA: 10:2 - ETA: 10:2 - ETA: 10:2 - ETA: 10:1 - ETA: 10:1 - ETA: 10:1 - ETA: 10:1 - ETA: 10:1 - ETA: 10:1 - ETA: 10:1 - ETA: 10:1 - ETA: 10:1 - ETA: 10:1 - ETA: 10:1 - ETA: 10:1 - ETA: 10:1 - ETA: 10:1 - ETA: 10:1 - ETA: 10:1 - ETA: 10:1 - ETA: 10:1 - ETA: 10:1 - ETA: 10:0 - ETA: 10:0 - ETA: 10:0 - ETA: 10:0 - ETA: 10:0 - ETA: 10:0 - ETA: 10:0 - ETA: 10:0 - ETA: 10:0 - ETA: 10:0 - ETA: 10:0 - ETA: 10:0 - ETA: 10:0 - ETA: 10:0 - ETA: 10:0 - ETA: 9:5 - ETA: 9: - ETA: 9: - ETA: 9: - ETA: 9: - ETA: 9: - ETA: 9: - ETA: 9: - ETA: 9: - ETA: 9: - ETA: 9: - ETA: 9: - ETA: 9: - ETA: 9: - ETA: 9: - ETA: 9: - ETA: 9: - ETA: 9: - ETA: 9: - ETA: 9: - ETA: 9: - ETA: 9: - ETA: 9: - ETA: 9: - ETA: 9: - ETA: 9: - ETA: 9: - ETA: 9: - ETA: 9: - ETA: 9: - ETA: 9: - ETA: 9: - ETA: 9: - ETA: 9: - ETA: 9: - ETA: 9: - ETA: 9: - ETA: 9: - ETA: 9: - ETA: 9: - ETA: 9: - ETA: 9: - ETA: 9: - ETA: 9: - ETA: 9: - ETA: 9: - ETA: 9: - ETA: 9: - ETA: 9: - ETA: 9: - ETA: 9: - ETA: 9: - ETA: 9: - ETA: 9: - ETA: 9: - ETA: 9: - ETA: 9: - ETA: 9: - ETA: 9: - ETA: 9: - ETA: 9: - ETA: 9: - ETA: 9: - ETA: 9: - ETA: 9: - ETA: 9: - ETA: 9: - ETA: 9: - ETA: 9: - ETA: 9: - ETA: 9: - ETA: 9: - ETA: 9: - ETA: 9: - ETA: 9: - ETA: 9: - ETA: 9: - ETA: 9: - ETA: 9: - ETA: 9: - ETA: 9: - ETA: 9: - ETA: 9: - ETA: 9: - ETA: 9: - ETA: 9: - ETA: 9: - ETA: 9: - ETA: 8: - ETA: 8: - ETA: 8: - ETA: 8: - ETA: 8: - ETA: 8: - ETA: 8: - ETA: 8: - ETA: 8: - ETA: 8: - ETA: 8: - ETA: 8: - ETA: 8: - ETA: 8: - ETA: 8: - ETA: 8: - ETA: 8: - ETA: 8: - ETA: 8: - ETA: 8: - ETA: 8: - ETA: 8: - ETA: 8: - ETA: 8: - ETA: 8: - ETA: 8: - ETA: 8: - ETA: 8: - ETA: 8: - ETA: 8: - ETA: 8: - ETA: 8: - ETA: 8: - ETA: 8: - ETA: 8: - ETA: 8: - ETA: 8: - ETA: 8: - ETA: 8: - ETA: 8: - ETA: 8: - ETA: 8: - ETA: 8: - ETA: 8: - ETA: 8: - ETA: 8: - ETA: 8: - ETA: 8: - ETA: 8: - ETA: 8: - ETA: 8: - ETA: 8: - ETA: 8: - ETA: 8: - ETA: 8: - ETA: 8: - ETA: 8: - ETA: 8: - ETA: 8: - ETA: 8: - ETA: 8: - ETA: 8: - ETA: 8: - ETA: 8: - ETA: 8: - ETA: 8: - ETA: 8: - ETA: 8: - ETA: 8: - ETA: 8: - ETA: 8: - ETA: 8: - ETA: 8: - ETA: 8: - ETA: 8: - ETA: 8: - ETA: 8: - ETA: 8: - ETA: 8: - ETA: 8: - ETA: 8: - ETA: 8: - ETA: 8: - ETA: 8: - ETA: 8: - ETA: 8: - ETA: 8: - ETA: 8: - ETA: 8: - ETA: 8: - ETA: 8: - ETA: 8: - ETA: 8: - ETA: 8: - ETA: 8: - ETA: 8: - ETA: 8: - ETA: 8: - ETA: 8: - ETA: 8: - ETA: 8: - ETA: 8: - ETA: 8: - ETA: 8: - ETA: 8: - ETA: 8: - ETA: 8: - ETA: 8: - ETA: 7: - ETA: 7: - ETA: 7: - ETA: 7: - ETA: 7: - ETA: 7: - ETA: 7: - ETA: 7: - ETA: 7: - ETA: 7: - ETA: 7: - ETA: 7: - ETA: 7: - ETA: 7: - ETA: 7: - ETA: 7: - ETA: 7: - ETA: 7: - ETA: 7: - ETA: 7: - ETA: 7: - ETA: 7: - ETA: 7: - ETA: 7: - ETA: 7: - ETA: 7: - ETA: 7: - ETA: 7: - ETA: 7: - ETA: 7: - ETA: 7: - ETA: 7: - ETA: 7: - ETA: 7: - ETA: 7: - ETA: 7: - ETA: 7: - ETA: 7: - ETA: 7: - ETA: 7: - ETA: 7: - ETA: 7: - ETA: 7: - ETA: 7: - ETA: 7: - ETA: 7: - ETA: 7: - ETA: 7: - ETA: 7: - ETA: 7: - ETA: 7: - ETA: 7: - ETA: 7: - ETA: 7: - ETA: 7: - ETA: 7: - ETA: 7: - ETA: 7: - ETA: 7: - ETA: 7: - ETA: 7: - ETA: 7: - ETA: 7: - ETA: 7: - ETA: 7: - ETA: 7: - ETA: 7: - ETA: 7: - ETA: 7: - ETA: 7: - ETA: 7: - ETA: 7: - ETA: 7: - ETA: 7: - ETA: 7: - ETA: 7: - ETA: 7: - ETA: 7: - ETA: 7: - ETA: 7: - ETA: 7: - ETA: 7: - ETA: 7: - ETA: 7: - ETA: 7: - ETA: 7: - ETA: 7: - ETA: 7: - ETA: 7: - ETA: 7: - ETA: 7: - ETA: 7: - ETA: 7: - ETA: 7: - ETA: 7: - ETA: 7: - ETA: 7: - ETA: 7: - ETA: 7: - ETA: 7: - ETA: 7: - ETA: 7: - ETA: 7: - ETA: 7: - ETA: 7: - ETA: 7: - ETA: 6: - ETA: 6: - ETA: 6: - ETA: 6: - ETA: 6: - ETA: 6: - ETA: 6: - ETA: 6: - ETA: 6: - ETA: 6: - ETA: 6: - ETA: 6: - ETA: 6: - ETA: 6: - ETA: 6: - ETA: 6: - ETA: 6: - ETA: 6: - ETA: 6: - ETA: 6: - ETA: 6: - ETA: 6: - ETA: 6: - ETA: 6: - ETA: 6: - ETA: 6: - ETA: 6: - ETA: 6: - ETA: 6: - ETA: 6: - ETA: 6: - ETA: 6: - ETA: 6: - ETA: 6: - ETA: 6: - ETA: 6: - ETA: 6: - ETA: 6: - ETA: 6: - ETA: 6: - ETA: 6: - ETA: 6: - ETA: 6: - ETA: 6: - ETA: 6: - ETA: 6: - ETA: 6: - ETA: 6: - ETA: 6: - ETA: 6: - ETA: 6: - ETA: 6: - ETA: 6: - ETA: 6: - ETA: 6: - ETA: 6: - ETA: 6: - ETA: 6: - ETA: 6: - ETA: 6: - ETA: 6: - ETA: 6: - ETA: 6: - ETA: 6: - ETA: 6: - ETA: 6: - ETA: 6: - ETA: 6: - ETA: 6: - ETA: 6: - ETA: 6: - ETA: 6: - ETA: 6: - ETA: 6: - ETA: 6: - ETA: 6: - ETA: 6: - ETA: 6: - ETA: 6: - ETA: 6: - ETA: 6: - ETA: 6: - ETA: 6: - ETA: 6: - ETA: 6: - ETA: 6: - ETA: 6: - ETA: 6: - ETA: 6: - ETA: 6: - ETA: 6: - ETA: 6: - ETA: 6: - ETA: 6: - ETA: 6: - ETA: 5: - ETA: 5: - ETA: 5: - ETA: 5: - ETA: 5: - ETA: 5: - ETA: 5: - ETA: 5: - ETA: 5: - ETA: 5: - ETA: 5: - ETA: 5: - ETA: 5: - ETA: 5: - ETA: 5: - ETA: 5: - ETA: 5: - ETA: 5: - ETA: 5: - ETA: 5: - ETA: 5: - ETA: 5: - ETA: 5: - ETA: 5: - ETA: 5: - ETA: 5: - ETA: 5: - ETA: 5: - ETA: 5: - ETA: 5: - ETA: 5: - ETA: 5: - ETA: 5: - ETA: 5: - ETA: 5: - ETA: 5: - ETA: 5: - ETA: 5: - ETA: 5: - ETA: 5: - ETA: 5: - ETA: 5: - ETA: 5: - ETA: 5: - ETA: 5: - ETA: 5: - ETA: 5: - ETA: 5: - ETA: 5: - ETA: 5: - ETA: 5: - ETA: 5: - ETA: 5: - ETA: 5: - ETA: 5: - ETA: 5: - ETA: 5: - ETA: 5: - ETA: 5: - ETA: 5: - ETA: 5: - ETA: 5: - ETA: 5: - ETA: 5: - ETA: 5: - ETA: 5: - ETA: 5: - ETA: 5: - ETA: 5: - ETA: 5: - ETA: 5: - ETA: 5: - ETA: 5: - ETA: 5: - ETA: 5: - ETA: 5: - ETA: 5: - ETA: 5: - ETA: 5: - ETA: 5: - ETA: 5: - ETA: 5: - ETA: 5: - ETA: 5: - ETA: 5: - ETA: 5: - ETA: 5: - ETA: 5: - ETA: 5: - ETA: 5: - ETA: 5: - ETA: 5: - ETA: 5: - ETA: 5: - ETA: 5: - ETA: 5: - ETA: 5: - ETA: 5:03"
     ]
    },
    {
     "name": "stdout",
     "output_type": "stream",
     "text": [
      "58892288/58889256 [==============================] - ETA: 5: - ETA: 5: - ETA: 5: - ETA: 5: - ETA: 5: - ETA: 4: - ETA: 4: - ETA: 4: - ETA: 4: - ETA: 4: - ETA: 4: - ETA: 4: - ETA: 4: - ETA: 4: - ETA: 4: - ETA: 4: - ETA: 4: - ETA: 4: - ETA: 4: - ETA: 4: - ETA: 4: - ETA: 4: - ETA: 4: - ETA: 4: - ETA: 4: - ETA: 4: - ETA: 4: - ETA: 4: - ETA: 4: - ETA: 4: - ETA: 4: - ETA: 4: - ETA: 4: - ETA: 4: - ETA: 4: - ETA: 4: - ETA: 4: - ETA: 4: - ETA: 4: - ETA: 4: - ETA: 4: - ETA: 4: - ETA: 4: - ETA: 4: - ETA: 4: - ETA: 4: - ETA: 4: - ETA: 4: - ETA: 4: - ETA: 4: - ETA: 4: - ETA: 4: - ETA: 4: - ETA: 4: - ETA: 4: - ETA: 4: - ETA: 4: - ETA: 4: - ETA: 4: - ETA: 4: - ETA: 4: - ETA: 4: - ETA: 4: - ETA: 4: - ETA: 4: - ETA: 4: - ETA: 4: - ETA: 4: - ETA: 4: - ETA: 4: - ETA: 4: - ETA: 4: - ETA: 4: - ETA: 4: - ETA: 4: - ETA: 4: - ETA: 4: - ETA: 4: - ETA: 4: - ETA: 4: - ETA: 4: - ETA: 4: - ETA: 4: - ETA: 4: - ETA: 4: - ETA: 4: - ETA: 4: - ETA: 4: - ETA: 4: - ETA: 4: - ETA: 4: - ETA: 4: - ETA: 4: - ETA: 4: - ETA: 4: - ETA: 4: - ETA: 4: - ETA: 4: - ETA: 4: - ETA: 4: - ETA: 4: - ETA: 4: - ETA: 4: - ETA: 4: - ETA: 4: - ETA: 4: - ETA: 4: - ETA: 4: - ETA: 4: - ETA: 4: - ETA: 4: - ETA: 4: - ETA: 4: - ETA: 3: - ETA: 3: - ETA: 3: - ETA: 3: - ETA: 3: - ETA: 3: - ETA: 3: - ETA: 3: - ETA: 3: - ETA: 3: - ETA: 3: - ETA: 3: - ETA: 3: - ETA: 3: - ETA: 3: - ETA: 3: - ETA: 3: - ETA: 3: - ETA: 3: - ETA: 3: - ETA: 3: - ETA: 3: - ETA: 3: - ETA: 3: - ETA: 3: - ETA: 3: - ETA: 3: - ETA: 3: - ETA: 3: - ETA: 3: - ETA: 3: - ETA: 3: - ETA: 3: - ETA: 3: - ETA: 3: - ETA: 3: - ETA: 3: - ETA: 3: - ETA: 3: - ETA: 3: - ETA: 3: - ETA: 3: - ETA: 3: - ETA: 3: - ETA: 3: - ETA: 3: - ETA: 3: - ETA: 3: - ETA: 3: - ETA: 3: - ETA: 3: - ETA: 3: - ETA: 3: - ETA: 3: - ETA: 3: - ETA: 3: - ETA: 3: - ETA: 3: - ETA: 3: - ETA: 3: - ETA: 3: - ETA: 3: - ETA: 3: - ETA: 3: - ETA: 3: - ETA: 3: - ETA: 3: - ETA: 3: - ETA: 3: - ETA: 3: - ETA: 3: - ETA: 3: - ETA: 3: - ETA: 3: - ETA: 3: - ETA: 3: - ETA: 3: - ETA: 3: - ETA: 3: - ETA: 3: - ETA: 3: - ETA: 3: - ETA: 3: - ETA: 3: - ETA: 3: - ETA: 3: - ETA: 3: - ETA: 3: - ETA: 3: - ETA: 3: - ETA: 3: - ETA: 3: - ETA: 3: - ETA: 3: - ETA: 3: - ETA: 3: - ETA: 3: - ETA: 3: - ETA: 3: - ETA: 3: - ETA: 3: - ETA: 3: - ETA: 2: - ETA: 2: - ETA: 2: - ETA: 2: - ETA: 2: - ETA: 2: - ETA: 2: - ETA: 2: - ETA: 2: - ETA: 2: - ETA: 2: - ETA: 2: - ETA: 2: - ETA: 2: - ETA: 2: - ETA: 2: - ETA: 2: - ETA: 2: - ETA: 2: - ETA: 2: - ETA: 2: - ETA: 2: - ETA: 2: - ETA: 2: - ETA: 2: - ETA: 2: - ETA: 2: - ETA: 2: - ETA: 2: - ETA: 2: - ETA: 2: - ETA: 2: - ETA: 2: - ETA: 2: - ETA: 2: - ETA: 2: - ETA: 2: - ETA: 2: - ETA: 2: - ETA: 2: - ETA: 2: - ETA: 2: - ETA: 2: - ETA: 2: - ETA: 2: - ETA: 2: - ETA: 2: - ETA: 2: - ETA: 2: - ETA: 2: - ETA: 2: - ETA: 2: - ETA: 2: - ETA: 2: - ETA: 2: - ETA: 2: - ETA: 2: - ETA: 2: - ETA: 2: - ETA: 2: - ETA: 2: - ETA: 2: - ETA: 2: - ETA: 2: - ETA: 2: - ETA: 2: - ETA: 2: - ETA: 2: - ETA: 2: - ETA: 2: - ETA: 2: - ETA: 2: - ETA: 2: - ETA: 2: - ETA: 2: - ETA: 2: - ETA: 2: - ETA: 2: - ETA: 2: - ETA: 2: - ETA: 2: - ETA: 2: - ETA: 2: - ETA: 2: - ETA: 2: - ETA: 2: - ETA: 2: - ETA: 2: - ETA: 2: - ETA: 2: - ETA: 2: - ETA: 2: - ETA: 2: - ETA: 2: - ETA: 2: - ETA: 2: - ETA: 2: - ETA: 2: - ETA: 1: - ETA: 1: - ETA: 1: - ETA: 1: - ETA: 1: - ETA: 1: - ETA: 1: - ETA: 1: - ETA: 1: - ETA: 1: - ETA: 1: - ETA: 1: - ETA: 1: - ETA: 1: - ETA: 1: - ETA: 1: - ETA: 1: - ETA: 1: - ETA: 1: - ETA: 1: - ETA: 1: - ETA: 1: - ETA: 1: - ETA: 1: - ETA: 1: - ETA: 1: - ETA: 1: - ETA: 1: - ETA: 1: - ETA: 1: - ETA: 1: - ETA: 1: - ETA: 1: - ETA: 1: - ETA: 1: - ETA: 1: - ETA: 1: - ETA: 1: - ETA: 1: - ETA: 1: - ETA: 1: - ETA: 1: - ETA: 1: - ETA: 1: - ETA: 1: - ETA: 1: - ETA: 1: - ETA: 1: - ETA: 1: - ETA: 1: - ETA: 1: - ETA: 1: - ETA: 1: - ETA: 1: - ETA: 1: - ETA: 1: - ETA: 1: - ETA: 1: - ETA: 1: - ETA: 1: - ETA: 1: - ETA: 1: - ETA: 1: - ETA: 1: - ETA: 1: - ETA: 1: - ETA: 1: - ETA: 1: - ETA: 1: - ETA: 1: - ETA: 1: - ETA: 1: - ETA: 1: - ETA: 1: - ETA: 1: - ETA: 1: - ETA: 1: - ETA: 1: - ETA: 1: - ETA: 1: - ETA: 1: - ETA: 1: - ETA: 1: - ETA: 1: - ETA: 1: - ETA: 1: - ETA: 1: - ETA: 1: - ETA: 1: - ETA: 1: - ETA: 1: - ETA: 1: - ETA: 1: - ETA: 1: - ETA: 1: - ETA: 59s - ETA: 59 - ETA: 58 - ETA: 57 - ETA: 57 - ETA: 56 - ETA: 56 - ETA: 55 - ETA: 55 - ETA: 54 - ETA: 54 - ETA: 53 - ETA: 53 - ETA: 52 - ETA: 52 - ETA: 51 - ETA: 51 - ETA: 50 - ETA: 50 - ETA: 49 - ETA: 48 - ETA: 48 - ETA: 47 - ETA: 47 - ETA: 46 - ETA: 46 - ETA: 45 - ETA: 44 - ETA: 44 - ETA: 43 - ETA: 43 - ETA: 42 - ETA: 41 - ETA: 41 - ETA: 40 - ETA: 40 - ETA: 39 - ETA: 38 - ETA: 38 - ETA: 37 - ETA: 37 - ETA: 36 - ETA: 36 - ETA: 34 - ETA: 34 - ETA: 33 - ETA: 33 - ETA: 32 - ETA: 32 - ETA: 31 - ETA: 30 - ETA: 30 - ETA: 29 - ETA: 29 - ETA: 28 - ETA: 28 - ETA: 27 - ETA: 26 - ETA: 26 - ETA: 25 - ETA: 25 - ETA: 24 - ETA: 23 - ETA: 23 - ETA: 22 - ETA: 22 - ETA: 21 - ETA: 21 - ETA: 20 - ETA: 19 - ETA: 19 - ETA: 18 - ETA: 18 - ETA: 17 - ETA: 17 - ETA: 16 - ETA: 15 - ETA: 15 - ETA: 14 - ETA: 14 - ETA: 13 - ETA: 12 - ETA: 11 - ETA: 10 - ETA: 9 - ETA:  - ETA:  - ETA:  - ETA:  - ETA:  - ETA:  - ETA:  - ETA:  - ETA:  - 1941s 33us/step\n"
     ]
    }
   ],
   "source": [
    "vgg16_net = VGG16(weights='imagenet', \n",
    "                  include_top=False, \n",
    "                  input_shape=(32, 32, 3))"
   ]
  },
  {
   "cell_type": "code",
   "execution_count": 6,
   "metadata": {},
   "outputs": [
    {
     "name": "stdout",
     "output_type": "stream",
     "text": [
      "_________________________________________________________________\n",
      "Layer (type)                 Output Shape              Param #   \n",
      "=================================================================\n",
      "input_1 (InputLayer)         (None, 32, 32, 3)         0         \n",
      "_________________________________________________________________\n",
      "block1_conv1 (Conv2D)        (None, 32, 32, 64)        1792      \n",
      "_________________________________________________________________\n",
      "block1_conv2 (Conv2D)        (None, 32, 32, 64)        36928     \n",
      "_________________________________________________________________\n",
      "block1_pool (MaxPooling2D)   (None, 16, 16, 64)        0         \n",
      "_________________________________________________________________\n",
      "block2_conv1 (Conv2D)        (None, 16, 16, 128)       73856     \n",
      "_________________________________________________________________\n",
      "block2_conv2 (Conv2D)        (None, 16, 16, 128)       147584    \n",
      "_________________________________________________________________\n",
      "block2_pool (MaxPooling2D)   (None, 8, 8, 128)         0         \n",
      "_________________________________________________________________\n",
      "block3_conv1 (Conv2D)        (None, 8, 8, 256)         295168    \n",
      "_________________________________________________________________\n",
      "block3_conv2 (Conv2D)        (None, 8, 8, 256)         590080    \n",
      "_________________________________________________________________\n",
      "block3_conv3 (Conv2D)        (None, 8, 8, 256)         590080    \n",
      "_________________________________________________________________\n",
      "block3_pool (MaxPooling2D)   (None, 4, 4, 256)         0         \n",
      "_________________________________________________________________\n",
      "block4_conv1 (Conv2D)        (None, 4, 4, 512)         1180160   \n",
      "_________________________________________________________________\n",
      "block4_conv2 (Conv2D)        (None, 4, 4, 512)         2359808   \n",
      "_________________________________________________________________\n",
      "block4_conv3 (Conv2D)        (None, 4, 4, 512)         2359808   \n",
      "_________________________________________________________________\n",
      "block4_pool (MaxPooling2D)   (None, 2, 2, 512)         0         \n",
      "_________________________________________________________________\n",
      "block5_conv1 (Conv2D)        (None, 2, 2, 512)         2359808   \n",
      "_________________________________________________________________\n",
      "block5_conv2 (Conv2D)        (None, 2, 2, 512)         2359808   \n",
      "_________________________________________________________________\n",
      "block5_conv3 (Conv2D)        (None, 2, 2, 512)         2359808   \n",
      "_________________________________________________________________\n",
      "block5_pool (MaxPooling2D)   (None, 1, 1, 512)         0         \n",
      "=================================================================\n",
      "Total params: 14,714,688\n",
      "Trainable params: 0\n",
      "Non-trainable params: 14,714,688\n",
      "_________________________________________________________________\n"
     ]
    }
   ],
   "source": [
    "vgg16_net.trainable = False\n",
    "vgg16_net.summary()"
   ]
  },
  {
   "cell_type": "code",
   "execution_count": 7,
   "metadata": {},
   "outputs": [],
   "source": [
    "model = Sequential()\n",
    "model.add(vgg16_net)\n",
    "model.add(Flatten())\n",
    "model.add(Dense(256))\n",
    "model.add(Activation('relu'))\n",
    "model.add(Dropout(0.5))\n",
    "model.add(Dense(1))\n",
    "model.add(Activation('sigmoid'))"
   ]
  },
  {
   "cell_type": "code",
   "execution_count": 8,
   "metadata": {},
   "outputs": [],
   "source": [
    "model.compile(loss='binary_crossentropy',\n",
    "              optimizer=Adam(lr=1e-5), \n",
    "              metrics=['accuracy'])"
   ]
  },
  {
   "cell_type": "code",
   "execution_count": 9,
   "metadata": {},
   "outputs": [
    {
     "data": {
      "application/vnd.jupyter.widget-view+json": {
       "model_id": "427823d48f8949dbb1b4601ead34f8c5",
       "version_major": 2,
       "version_minor": 0
      },
      "text/plain": [
       "HBox(children=(IntProgress(value=0, max=17500), HTML(value='')))"
      ]
     },
     "metadata": {},
     "output_type": "display_data"
    },
    {
     "name": "stdout",
     "output_type": "stream",
     "text": [
      "\n"
     ]
    }
   ],
   "source": [
    "X_tr = []\n",
    "Y_tr = []\n",
    "imges = train_df['id'].values\n",
    "for img_id in tqdm_notebook(imges):\n",
    "    X_tr.append(cv2.imread(train_dir + img_id))    \n",
    "    Y_tr.append(train_df[train_df['id'] == img_id]['has_cactus'].values[0])  \n",
    "X_tr = np.asarray(X_tr)\n",
    "X_tr = X_tr.astype('float32')\n",
    "X_tr /= 255\n",
    "Y_tr = np.asarray(Y_tr)"
   ]
  },
  {
   "cell_type": "code",
   "execution_count": 10,
   "metadata": {},
   "outputs": [
    {
     "data": {
      "text/plain": [
       "array([[[[0.49019608, 0.5411765 , 0.53333336],\n",
       "         [0.49019608, 0.53333336, 0.5254902 ],\n",
       "         [0.54901963, 0.5803922 , 0.5764706 ],\n",
       "         ...,\n",
       "         [0.5294118 , 0.5058824 , 0.59607846],\n",
       "         [0.50980395, 0.4862745 , 0.5764706 ],\n",
       "         [0.54901963, 0.5254902 , 0.6156863 ]],\n",
       "\n",
       "        [[0.44313726, 0.49411765, 0.4862745 ],\n",
       "         [0.59607846, 0.6392157 , 0.6313726 ],\n",
       "         [0.5921569 , 0.62352943, 0.61960787],\n",
       "         ...,\n",
       "         [0.57254905, 0.54901963, 0.6392157 ],\n",
       "         [0.5137255 , 0.49411765, 0.5764706 ],\n",
       "         [0.5058824 , 0.4862745 , 0.5686275 ]],\n",
       "\n",
       "        [[0.5882353 , 0.6392157 , 0.6313726 ],\n",
       "         [0.5921569 , 0.63529414, 0.627451  ],\n",
       "         [0.5921569 , 0.62352943, 0.61960787],\n",
       "         ...,\n",
       "         [0.5254902 , 0.5058824 , 0.5882353 ],\n",
       "         [0.5686275 , 0.54901963, 0.6313726 ],\n",
       "         [0.44313726, 0.42352942, 0.5058824 ]],\n",
       "\n",
       "        ...,\n",
       "\n",
       "        [[0.47843137, 0.43529412, 0.5372549 ],\n",
       "         [0.7137255 , 0.67058825, 0.77254903],\n",
       "         [0.37254903, 0.32941177, 0.43137255],\n",
       "         ...,\n",
       "         [0.58431375, 0.5176471 , 0.62352943],\n",
       "         [0.5294118 , 0.4627451 , 0.5686275 ],\n",
       "         [0.57254905, 0.5058824 , 0.6117647 ]],\n",
       "\n",
       "        [[0.5294118 , 0.4862745 , 0.5882353 ],\n",
       "         [0.6039216 , 0.56078434, 0.6627451 ],\n",
       "         [0.5372549 , 0.4862745 , 0.5882353 ],\n",
       "         ...,\n",
       "         [0.6156863 , 0.54901963, 0.654902  ],\n",
       "         [0.5529412 , 0.48235294, 0.59607846],\n",
       "         [0.56078434, 0.48235294, 0.59607846]],\n",
       "\n",
       "        [[0.65882355, 0.6156863 , 0.7176471 ],\n",
       "         [0.39215687, 0.34901962, 0.4509804 ],\n",
       "         [0.59607846, 0.54509807, 0.64705884],\n",
       "         ...,\n",
       "         [0.65882355, 0.5882353 , 0.7019608 ],\n",
       "         [0.52156866, 0.44313726, 0.5568628 ],\n",
       "         [0.50980395, 0.43137255, 0.54509807]]],\n",
       "\n",
       "\n",
       "       [[[0.44705883, 0.42745098, 0.4627451 ],\n",
       "         [0.40784314, 0.3882353 , 0.42352942],\n",
       "         [0.39215687, 0.37254903, 0.40784314],\n",
       "         ...,\n",
       "         [0.56078434, 0.5176471 , 0.61960787],\n",
       "         [0.48235294, 0.4392157 , 0.5411765 ],\n",
       "         [0.42352942, 0.38039216, 0.48235294]],\n",
       "\n",
       "        [[0.5058824 , 0.4862745 , 0.52156866],\n",
       "         [0.46666667, 0.44705883, 0.48235294],\n",
       "         [0.44313726, 0.42352942, 0.45882353],\n",
       "         ...,\n",
       "         [0.47058824, 0.42745098, 0.5294118 ],\n",
       "         [0.40784314, 0.3647059 , 0.46666667],\n",
       "         [0.39607844, 0.3529412 , 0.45490196]],\n",
       "\n",
       "        [[0.5647059 , 0.5529412 , 0.5882353 ],\n",
       "         [0.46666667, 0.45490196, 0.49019608],\n",
       "         [0.40392157, 0.38431373, 0.41960785],\n",
       "         ...,\n",
       "         [0.32941177, 0.28627452, 0.3882353 ],\n",
       "         [0.34509805, 0.3019608 , 0.40392157],\n",
       "         [0.43137255, 0.3882353 , 0.49019608]],\n",
       "\n",
       "        ...,\n",
       "\n",
       "        [[0.7647059 , 0.74509805, 0.8039216 ],\n",
       "         [0.7921569 , 0.7764706 , 0.8235294 ],\n",
       "         [0.8509804 , 0.8352941 , 0.88235295],\n",
       "         ...,\n",
       "         [0.7176471 , 0.6784314 , 0.7254902 ],\n",
       "         [0.8039216 , 0.7647059 , 0.8156863 ],\n",
       "         [0.9490196 , 0.9098039 , 0.9607843 ]],\n",
       "\n",
       "        [[0.39607844, 0.3764706 , 0.43529412],\n",
       "         [0.43137255, 0.41568628, 0.4627451 ],\n",
       "         [0.4745098 , 0.45882353, 0.5058824 ],\n",
       "         ...,\n",
       "         [0.43137255, 0.39215687, 0.44313726],\n",
       "         [0.5372549 , 0.49803922, 0.54901963],\n",
       "         [0.7058824 , 0.6666667 , 0.7176471 ]],\n",
       "\n",
       "        [[0.3254902 , 0.30588236, 0.3647059 ],\n",
       "         [0.22352941, 0.20784314, 0.25490198],\n",
       "         [0.20392157, 0.1882353 , 0.23529412],\n",
       "         ...,\n",
       "         [0.39607844, 0.35686275, 0.40784314],\n",
       "         [0.36078432, 0.31764707, 0.38039216],\n",
       "         [0.4745098 , 0.43137255, 0.49411765]]],\n",
       "\n",
       "\n",
       "       [[[0.61960787, 0.54509807, 0.61960787],\n",
       "         [0.61960787, 0.54509807, 0.61960787],\n",
       "         [0.6156863 , 0.5529412 , 0.62352943],\n",
       "         ...,\n",
       "         [0.5921569 , 0.5764706 , 0.6509804 ],\n",
       "         [0.5058824 , 0.48235294, 0.5568628 ],\n",
       "         [0.47058824, 0.44705883, 0.52156866]],\n",
       "\n",
       "        [[0.654902  , 0.5803922 , 0.6627451 ],\n",
       "         [0.5686275 , 0.49411765, 0.5686275 ],\n",
       "         [0.67058825, 0.60784316, 0.6784314 ],\n",
       "         ...,\n",
       "         [0.5294118 , 0.5137255 , 0.5882353 ],\n",
       "         [0.41568628, 0.39215687, 0.46666667],\n",
       "         [0.49019608, 0.46666667, 0.5411765 ]],\n",
       "\n",
       "        [[0.6784314 , 0.6039216 , 0.6862745 ],\n",
       "         [0.62352943, 0.54901963, 0.6313726 ],\n",
       "         [0.5529412 , 0.4862745 , 0.5686275 ],\n",
       "         ...,\n",
       "         [0.63529414, 0.61960787, 0.69411767],\n",
       "         [0.52156866, 0.49803922, 0.57254905],\n",
       "         [0.5019608 , 0.47843137, 0.5529412 ]],\n",
       "\n",
       "        ...,\n",
       "\n",
       "        [[0.6901961 , 0.6156863 , 0.7137255 ],\n",
       "         [0.6117647 , 0.5411765 , 0.6313726 ],\n",
       "         [0.57254905, 0.50980395, 0.6       ],\n",
       "         ...,\n",
       "         [0.5137255 , 0.47843137, 0.5803922 ],\n",
       "         [0.5372549 , 0.5019608 , 0.6039216 ],\n",
       "         [0.45490196, 0.4117647 , 0.5137255 ]],\n",
       "\n",
       "        [[0.5254902 , 0.4509804 , 0.54901963],\n",
       "         [0.5882353 , 0.5176471 , 0.60784316],\n",
       "         [0.45882353, 0.3882353 , 0.47843137],\n",
       "         ...,\n",
       "         [0.47843137, 0.44313726, 0.54509807],\n",
       "         [0.5019608 , 0.46666667, 0.5686275 ],\n",
       "         [0.46666667, 0.43137255, 0.53333336]],\n",
       "\n",
       "        [[0.5529412 , 0.4745098 , 0.5647059 ],\n",
       "         [0.54901963, 0.47058824, 0.56078434],\n",
       "         [0.5529412 , 0.48235294, 0.57254905],\n",
       "         ...,\n",
       "         [0.57254905, 0.5372549 , 0.6392157 ],\n",
       "         [0.5647059 , 0.5294118 , 0.6313726 ],\n",
       "         [0.5294118 , 0.49411765, 0.59607846]]],\n",
       "\n",
       "\n",
       "       ...,\n",
       "\n",
       "\n",
       "       [[[0.3764706 , 0.35686275, 0.39215687],\n",
       "         [0.5019608 , 0.48235294, 0.5176471 ],\n",
       "         [0.8509804 , 0.83137256, 0.8666667 ],\n",
       "         ...,\n",
       "         [0.46666667, 0.43529412, 0.47843137],\n",
       "         [0.45882353, 0.42745098, 0.47058824],\n",
       "         [0.49411765, 0.45490196, 0.5019608 ]],\n",
       "\n",
       "        [[0.43529412, 0.4117647 , 0.45490196],\n",
       "         [0.5058824 , 0.48235294, 0.5254902 ],\n",
       "         [0.73333335, 0.7137255 , 0.7490196 ],\n",
       "         ...,\n",
       "         [0.4745098 , 0.44313726, 0.4862745 ],\n",
       "         [0.47058824, 0.4392157 , 0.48235294],\n",
       "         [0.43137255, 0.4       , 0.44313726]],\n",
       "\n",
       "        [[0.50980395, 0.4862745 , 0.5294118 ],\n",
       "         [0.5058824 , 0.48235294, 0.5254902 ],\n",
       "         [0.3019608 , 0.2784314 , 0.32156864],\n",
       "         ...,\n",
       "         [0.53333336, 0.5019608 , 0.54509807],\n",
       "         [0.58431375, 0.5529412 , 0.59607846],\n",
       "         [0.42352942, 0.39215687, 0.43529412]],\n",
       "\n",
       "        ...,\n",
       "\n",
       "        [[0.5882353 , 0.5568628 , 0.59607846],\n",
       "         [0.38431373, 0.3529412 , 0.39215687],\n",
       "         [0.47058824, 0.44313726, 0.47058824],\n",
       "         ...,\n",
       "         [0.44313726, 0.42745098, 0.47058824],\n",
       "         [0.36078432, 0.34901962, 0.38431373],\n",
       "         [0.4862745 , 0.4745098 , 0.50980395]],\n",
       "\n",
       "        [[0.6392157 , 0.62352943, 0.64705884],\n",
       "         [0.45490196, 0.4392157 , 0.4627451 ],\n",
       "         [0.5254902 , 0.49803922, 0.5254902 ],\n",
       "         ...,\n",
       "         [0.32941177, 0.3254902 , 0.3647059 ],\n",
       "         [0.32941177, 0.3254902 , 0.36078432],\n",
       "         [0.44705883, 0.44313726, 0.47843137]],\n",
       "\n",
       "        [[0.40784314, 0.39215687, 0.41568628],\n",
       "         [0.56078434, 0.54509807, 0.5686275 ],\n",
       "         [0.5176471 , 0.49019608, 0.5176471 ],\n",
       "         ...,\n",
       "         [0.4509804 , 0.44705883, 0.4862745 ],\n",
       "         [0.45490196, 0.4509804 , 0.4862745 ],\n",
       "         [0.4117647 , 0.40784314, 0.44313726]]],\n",
       "\n",
       "\n",
       "       [[[0.5254902 , 0.5137255 , 0.57254905],\n",
       "         [0.58431375, 0.57254905, 0.6313726 ],\n",
       "         [0.5529412 , 0.5411765 , 0.6       ],\n",
       "         ...,\n",
       "         [0.5686275 , 0.5568628 , 0.6156863 ],\n",
       "         [0.5372549 , 0.5254902 , 0.58431375],\n",
       "         [0.5176471 , 0.5058824 , 0.5647059 ]],\n",
       "\n",
       "        [[0.5411765 , 0.5294118 , 0.5882353 ],\n",
       "         [0.65882355, 0.64705884, 0.7058824 ],\n",
       "         [0.67058825, 0.65882355, 0.7176471 ],\n",
       "         ...,\n",
       "         [0.54509807, 0.53333336, 0.5921569 ],\n",
       "         [0.54901963, 0.5372549 , 0.59607846],\n",
       "         [0.5568628 , 0.54509807, 0.6039216 ]],\n",
       "\n",
       "        [[0.6431373 , 0.6313726 , 0.6901961 ],\n",
       "         [0.7490196 , 0.7372549 , 0.79607844],\n",
       "         [0.75686276, 0.74509805, 0.8039216 ],\n",
       "         ...,\n",
       "         [0.54901963, 0.5372549 , 0.59607846],\n",
       "         [0.56078434, 0.54901963, 0.60784316],\n",
       "         [0.57254905, 0.56078434, 0.61960787]],\n",
       "\n",
       "        ...,\n",
       "\n",
       "        [[0.44313726, 0.43137255, 0.49019608],\n",
       "         [0.44705883, 0.43529412, 0.49411765],\n",
       "         [0.6392157 , 0.627451  , 0.6862745 ],\n",
       "         ...,\n",
       "         [0.54901963, 0.5372549 , 0.59607846],\n",
       "         [0.53333336, 0.52156866, 0.5803922 ],\n",
       "         [0.50980395, 0.49803922, 0.5568628 ]],\n",
       "\n",
       "        [[0.3882353 , 0.3764706 , 0.43529412],\n",
       "         [0.42352942, 0.4117647 , 0.47058824],\n",
       "         [0.56078434, 0.54901963, 0.60784316],\n",
       "         ...,\n",
       "         [0.5254902 , 0.5137255 , 0.57254905],\n",
       "         [0.5529412 , 0.5411765 , 0.6       ],\n",
       "         [0.5176471 , 0.5058824 , 0.5647059 ]],\n",
       "\n",
       "        [[0.4509804 , 0.4392157 , 0.49803922],\n",
       "         [0.41568628, 0.40392157, 0.4627451 ],\n",
       "         [0.38431373, 0.37254903, 0.43137255],\n",
       "         ...,\n",
       "         [0.5137255 , 0.5019608 , 0.56078434],\n",
       "         [0.5803922 , 0.5686275 , 0.627451  ],\n",
       "         [0.52156866, 0.50980395, 0.5686275 ]]],\n",
       "\n",
       "\n",
       "       [[[0.6392157 , 0.5803922 , 0.6901961 ],\n",
       "         [0.53333336, 0.4745098 , 0.58431375],\n",
       "         [0.5529412 , 0.49411765, 0.6039216 ],\n",
       "         ...,\n",
       "         [0.63529414, 0.56078434, 0.6901961 ],\n",
       "         [0.5647059 , 0.49019608, 0.61960787],\n",
       "         [0.5803922 , 0.5058824 , 0.63529414]],\n",
       "\n",
       "        [[0.6117647 , 0.5529412 , 0.6627451 ],\n",
       "         [0.57254905, 0.5137255 , 0.62352943],\n",
       "         [0.49019608, 0.43137255, 0.5411765 ],\n",
       "         ...,\n",
       "         [0.6313726 , 0.5568628 , 0.6862745 ],\n",
       "         [0.47058824, 0.39607844, 0.5254902 ],\n",
       "         [0.5411765 , 0.46666667, 0.59607846]],\n",
       "\n",
       "        [[0.627451  , 0.5686275 , 0.6784314 ],\n",
       "         [0.63529414, 0.5764706 , 0.6862745 ],\n",
       "         [0.52156866, 0.46666667, 0.5764706 ],\n",
       "         ...,\n",
       "         [0.6392157 , 0.5686275 , 0.6901961 ],\n",
       "         [0.49803922, 0.42745098, 0.54901963],\n",
       "         [0.54901963, 0.47843137, 0.6       ]],\n",
       "\n",
       "        ...,\n",
       "\n",
       "        [[0.30588236, 0.27058825, 0.30980393],\n",
       "         [0.3529412 , 0.31764707, 0.35686275],\n",
       "         [0.50980395, 0.4745098 , 0.5137255 ],\n",
       "         ...,\n",
       "         [0.49411765, 0.5137255 , 0.5058824 ],\n",
       "         [0.4392157 , 0.4627451 , 0.44313726],\n",
       "         [0.48235294, 0.5058824 , 0.4862745 ]],\n",
       "\n",
       "        [[0.41960785, 0.38431373, 0.42352942],\n",
       "         [0.5411765 , 0.5058824 , 0.54509807],\n",
       "         [0.49019608, 0.45490196, 0.49411765],\n",
       "         ...,\n",
       "         [0.54509807, 0.5647059 , 0.5568628 ],\n",
       "         [0.52156866, 0.54509807, 0.5254902 ],\n",
       "         [0.5137255 , 0.5372549 , 0.5176471 ]],\n",
       "\n",
       "        [[0.62352943, 0.5882353 , 0.627451  ],\n",
       "         [0.6117647 , 0.5764706 , 0.6156863 ],\n",
       "         [0.5019608 , 0.46666667, 0.5058824 ],\n",
       "         ...,\n",
       "         [0.5019608 , 0.5254902 , 0.5058824 ],\n",
       "         [0.41568628, 0.4392157 , 0.41960785],\n",
       "         [0.36078432, 0.38431373, 0.3647059 ]]]], dtype=float32)"
      ]
     },
     "execution_count": 10,
     "metadata": {},
     "output_type": "execute_result"
    }
   ],
   "source": [
    "X_tr"
   ]
  },
  {
   "cell_type": "code",
   "execution_count": 11,
   "metadata": {},
   "outputs": [
    {
     "data": {
      "text/plain": [
       "array([1, 1, 1, ..., 1, 0, 1], dtype=int64)"
      ]
     },
     "execution_count": 11,
     "metadata": {},
     "output_type": "execute_result"
    }
   ],
   "source": [
    "Y_tr"
   ]
  },
  {
   "cell_type": "code",
   "execution_count": 16,
   "metadata": {},
   "outputs": [],
   "source": [
    "batch_size = 32\n",
    "nb_epoch = 3"
   ]
  },
  {
   "cell_type": "code",
   "execution_count": 17,
   "metadata": {},
   "outputs": [
    {
     "name": "stdout",
     "output_type": "stream",
     "text": [
      "Train on 15750 samples, validate on 1750 samples\n",
      "Epoch 1/3\n",
      " - 124s - loss: 0.2868 - acc: 0.8890 - val_loss: 0.2546 - val_acc: 0.9286\n",
      "Epoch 2/3\n",
      " - 124s - loss: 0.2638 - acc: 0.9015 - val_loss: 0.2365 - val_acc: 0.9360\n",
      "Epoch 3/3\n",
      " - 123s - loss: 0.2472 - acc: 0.9123 - val_loss: 0.2219 - val_acc: 0.9394\n"
     ]
    }
   ],
   "source": [
    "# Train model\n",
    "history = model.fit(X_tr, Y_tr,\n",
    "              batch_size=batch_size,\n",
    "              epochs=nb_epoch,\n",
    "              validation_split=0.1,\n",
    "              shuffle=True,\n",
    "              verbose=2)"
   ]
  },
  {
   "cell_type": "code",
   "execution_count": 18,
   "metadata": {},
   "outputs": [
    {
     "data": {
      "text/plain": [
       "<matplotlib.axes._subplots.AxesSubplot at 0x10433d68>"
      ]
     },
     "execution_count": 18,
     "metadata": {},
     "output_type": "execute_result"
    },
    {
     "data": {
      "image/png": "[encoded data removed]",
      "text/plain": [
       "<Figure size 432x288 with 1 Axes>"
      ]
     },
     "metadata": {
      "needs_background": "light"
     },
     "output_type": "display_data"
    },
    {
     "data": {
      "image/png": "[encoded data removed]",
      "text/plain": [
       "<Figure size 432x288 with 1 Axes>"
      ]
     },
     "metadata": {
      "needs_background": "light"
     },
     "output_type": "display_data"
    }
   ],
   "source": [
    "with open('history.json', 'w') as f:\n",
    "    json.dump(history.history, f)\n",
    "\n",
    "history_df = pd.DataFrame(history.history)\n",
    "history_df[['loss', 'val_loss']].plot()\n",
    "history_df[['acc', 'val_acc']].plot()"
   ]
  },
  {
   "cell_type": "code",
   "execution_count": 19,
   "metadata": {},
   "outputs": [
    {
     "data": {
      "application/vnd.jupyter.widget-view+json": {
       "model_id": "a917c87999b24dbf9f6f690ddb712bde",
       "version_major": 2,
       "version_minor": 0
      },
      "text/plain": [
       "HBox(children=(IntProgress(value=0, max=4000), HTML(value='')))"
      ]
     },
     "metadata": {},
     "output_type": "display_data"
    },
    {
     "name": "stdout",
     "output_type": "stream",
     "text": [
      "\n"
     ]
    }
   ],
   "source": [
    "X_tst = []\n",
    "Test_imgs = []\n",
    "for img_id in tqdm_notebook(os.listdir(test_dir)):\n",
    "    X_tst.append(cv2.imread(test_dir + img_id))     \n",
    "    Test_imgs.append(img_id)\n",
    "X_tst = np.asarray(X_tst)\n",
    "X_tst = X_tst.astype('float32')\n",
    "X_tst /= 255"
   ]
  },
  {
   "cell_type": "code",
   "execution_count": 20,
   "metadata": {},
   "outputs": [],
   "source": [
    "# Prediction\n",
    "test_predictions = model.predict(X_tst)"
   ]
  },
  {
   "cell_type": "code",
   "execution_count": 21,
   "metadata": {},
   "outputs": [],
   "source": [
    "sub_df = pd.DataFrame(test_predictions, columns=['has_cactus'])\n",
    "sub_df['has_cactus'] = sub_df['has_cactus'].apply(lambda x: 1 if x > 0.75 else 0)"
   ]
  },
  {
   "cell_type": "code",
   "execution_count": 22,
   "metadata": {},
   "outputs": [],
   "source": [
    "sub_df['id'] = ''\n",
    "cols = sub_df.columns.tolist()\n",
    "cols = cols[-1:] + cols[:-1]\n",
    "sub_df=sub_df[cols]"
   ]
  },
  {
   "cell_type": "code",
   "execution_count": 23,
   "metadata": {},
   "outputs": [
    {
     "name": "stderr",
     "output_type": "stream",
     "text": [
      "e:\\Anaconda3\\lib\\site-packages\\ipykernel_launcher.py:2: FutureWarning: set_value is deprecated and will be removed in a future release. Please use .at[] or .iat[] accessors instead\n",
      "  \n"
     ]
    }
   ],
   "source": [
    "for i, img in enumerate(Test_imgs):\n",
    "    sub_df.set_value(i,'id',img)"
   ]
  },
  {
   "cell_type": "code",
   "execution_count": 24,
   "metadata": {},
   "outputs": [
    {
     "data": {
      "text/html": [
       "<div>\n",
       "<style scoped>\n",
       "    .dataframe tbody tr th:only-of-type {\n",
       "        vertical-align: middle;\n",
       "    }\n",
       "\n",
       "    .dataframe tbody tr th {\n",
       "        vertical-align: top;\n",
       "    }\n",
       "\n",
       "    .dataframe thead th {\n",
       "        text-align: right;\n",
       "    }\n",
       "</style>\n",
       "<table border=\"1\" class=\"dataframe\">\n",
       "  <thead>\n",
       "    <tr style=\"text-align: right;\">\n",
       "      <th></th>\n",
       "      <th>id</th>\n",
       "      <th>has_cactus</th>\n",
       "    </tr>\n",
       "  </thead>\n",
       "  <tbody>\n",
       "    <tr>\n",
       "      <th>0</th>\n",
       "      <td>000940378805c44108d287872b2f04ce.jpg</td>\n",
       "      <td>1</td>\n",
       "    </tr>\n",
       "    <tr>\n",
       "      <th>1</th>\n",
       "      <td>0017242f54ececa4512b4d7937d1e21e.jpg</td>\n",
       "      <td>1</td>\n",
       "    </tr>\n",
       "    <tr>\n",
       "      <th>2</th>\n",
       "      <td>001ee6d8564003107853118ab87df407.jpg</td>\n",
       "      <td>0</td>\n",
       "    </tr>\n",
       "    <tr>\n",
       "      <th>3</th>\n",
       "      <td>002e175c3c1e060769475f52182583d0.jpg</td>\n",
       "      <td>0</td>\n",
       "    </tr>\n",
       "    <tr>\n",
       "      <th>4</th>\n",
       "      <td>0036e44a7e8f7218e9bc7bf8137e4943.jpg</td>\n",
       "      <td>1</td>\n",
       "    </tr>\n",
       "  </tbody>\n",
       "</table>\n",
       "</div>"
      ],
      "text/plain": [
       "                                     id  has_cactus\n",
       "0  000940378805c44108d287872b2f04ce.jpg           1\n",
       "1  0017242f54ececa4512b4d7937d1e21e.jpg           1\n",
       "2  001ee6d8564003107853118ab87df407.jpg           0\n",
       "3  002e175c3c1e060769475f52182583d0.jpg           0\n",
       "4  0036e44a7e8f7218e9bc7bf8137e4943.jpg           1"
      ]
     },
     "execution_count": 24,
     "metadata": {},
     "output_type": "execute_result"
    }
   ],
   "source": [
    "sub_df.head()"
   ]
  },
  {
   "cell_type": "code",
   "execution_count": 25,
   "metadata": {},
   "outputs": [],
   "source": [
    "sub_df.to_csv('submission.csv',index=False)"
   ]
  },
  {
   "cell_type": "code",
   "execution_count": null,
   "metadata": {},
   "outputs": [],
   "source": []
  }
 ],
 "metadata": {
  "kernelspec": {
   "display_name": "Python 3",
   "language": "python",
   "name": "python3"
  },
  "language_info": {
   "codemirror_mode": {
    "name": "ipython",
    "version": 3
   },
   "file_extension": ".py",
   "mimetype": "text/x-python",
   "name": "python",
   "nbconvert_exporter": "python",
   "pygments_lexer": "ipython3",
   "version": "3.6.7"
  }
 },
 "nbformat": 4,
 "nbformat_minor": 2
}
